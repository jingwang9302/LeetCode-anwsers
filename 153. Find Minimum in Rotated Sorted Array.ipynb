{
 "cells": [
  {
   "cell_type": "markdown",
   "metadata": {},
   "source": [
    "# 153. Find Minimum in Rotated Sorted Array"
   ]
  },
  {
   "cell_type": "raw",
   "metadata": {},
   "source": [
    "Suppose an array sorted in ascending order is rotated at some pivot unknown to you beforehand.\n",
    "\n",
    "(i.e.,  [0,1,2,4,5,6,7] might become  [4,5,6,7,0,1,2]).\n",
    "\n",
    "Find the minimum element.\n",
    "\n",
    "You may assume no duplicate exists in the array.\n",
    "\n",
    "Example 1:\n",
    "\n",
    "Input: [3,4,5,1,2] \n",
    "Output: 1\n",
    "Example 2:\n",
    "\n",
    "Input: [4,5,6,7,0,1,2]\n",
    "Output: 0"
   ]
  },
  {
   "cell_type": "code",
   "execution_count": null,
   "metadata": {},
   "outputs": [],
   "source": [
    "    def findMin(self, nums: List[int]) -> int:\n",
    "        if not nums:\n",
    "            return -1\n",
    "        start, end = 0, len(nums)-1\n",
    "        \n",
    "        if nums[end] > nums[0]:\n",
    "            return nums[0]\n",
    "        \n",
    "        while start + 1 < end:\n",
    "            mid = (start + end) // 2\n",
    "            if nums[mid] > nums[end]:\n",
    "                start = mid\n",
    "            else:\n",
    "                end = mid\n",
    "        return min(nums[start], nums[end])"
   ]
  }
 ],
 "metadata": {
  "kernelspec": {
   "display_name": "Python 3",
   "language": "python",
   "name": "python3"
  },
  "language_info": {
   "codemirror_mode": {
    "name": "ipython",
    "version": 3
   },
   "file_extension": ".py",
   "mimetype": "text/x-python",
   "name": "python",
   "nbconvert_exporter": "python",
   "pygments_lexer": "ipython3",
   "version": "3.7.3"
  }
 },
 "nbformat": 4,
 "nbformat_minor": 2
}
