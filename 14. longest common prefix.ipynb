{
 "cells": [
  {
   "cell_type": "markdown",
   "metadata": {},
   "source": [
    "# 14. longest common prefix"
   ]
  },
  {
   "cell_type": "markdown",
   "metadata": {},
   "source": [
    "Write a function to find the longest common prefix string amongst an array of strings.\n",
    "\n",
    "If there is no common prefix, return an empty string \"\".\n",
    "\n",
    "Example 1:\n",
    "\n",
    "Input: [\"flower\",\"flow\",\"flight\"]\n",
    "\n",
    "Output: \"fl\"\n",
    "\n",
    "Example 2:\n",
    "\n",
    "Input: [\"dog\",\"racecar\",\"car\"]\n",
    "Output: \"\"\n",
    "Explanation: There is no common prefix among the input strings."
   ]
  },
  {
   "cell_type": "code",
   "execution_count": 1,
   "metadata": {},
   "outputs": [],
   "source": [
    "    # vertical\n",
    "    def longestCommonPrefix(self, strs):\n",
    "        \"\"\"\n",
    "        :type strs: List[str]\n",
    "        :rtype: str\n",
    "        \"\"\"\n",
    "        if not strs:\n",
    "            return \"\"\n",
    "        for i in range(len(strs[0])):\n",
    "            for string in strs[1:]:\n",
    "                if i >= len(string) or string[i] != strs[0][i]:\n",
    "                    return strs[0][0:i]\n",
    "                \n",
    "        return strs[0]"
   ]
  },
  {
   "cell_type": "code",
   "execution_count": 2,
   "metadata": {},
   "outputs": [],
   "source": [
    "    #divide and conque(has bug when input[\"\",\"\"])\n",
    "    def longestCommonPrefix(self, strs):\n",
    "        \"\"\"\n",
    "        :type strs: List[str]\n",
    "        :rtype: str\n",
    "        \"\"\"\n",
    "        if not strs:\n",
    "            return \"\"\n",
    "        else:\n",
    "            return self.recLongestCommonPrefix(strs,0,len(strs)-1)\n",
    "            return strs[0]\n",
    "    def recLongestCommonPrefix(self,strs,left,right):\n",
    "        if left == right:\n",
    "            return strs[left]\n",
    "        else:\n",
    "            mid = (left + right)/2\n",
    "            lcpLeft = self.recLongestCommonPrefix(strs,1,mid)\n",
    "            lcpRight = self.recLongestCommonPrefix(strs, mid + 1, right)\n",
    "            return self.commonPrefix(lcpLeft,lcpRight)\n",
    "        \n",
    "    def commonPrefix(self,lcpL,lcpR):\n",
    "        minLength = min(len(lcpL),len(lcpR))\n",
    "        for i in range(minLength):\n",
    "            if lcpL[i] !=lcpR[i]:\n",
    "                return lcpL[0:i]\n",
    "        return lcpL(0,minLength)"
   ]
  },
  {
   "cell_type": "code",
   "execution_count": 5,
   "metadata": {},
   "outputs": [],
   "source": [
    "    #Binary search\n",
    "    def longestCommonPrefix(self, strs):\n",
    "        \"\"\"\n",
    "        :type strs: List[str]\n",
    "        :rtype: str\n",
    "        \"\"\"\n",
    "        if not strs:\n",
    "            return \"\"\n",
    "        # find the shortest string in strs\n",
    "        minLen = 2**31\n",
    "        for string in strs:\n",
    "            minLen = min(minLen,len(string))\n",
    "        low = 1\n",
    "        high = minLen\n",
    "        while (low <= high):\n",
    "            mid = (low+high)/2\n",
    "            if self.isCommonPrefix(strs,mid):\n",
    "                low = mid + 1\n",
    "            else:\n",
    "                high = mid - 1       \n",
    "        return strs[0][0:(low + high)/2]\n",
    "    \n",
    "    def isCommonPrefix(self,strs,length):\n",
    "        str1 = strs[0][0:length]\n",
    "        i = 1\n",
    "        while i < len(strs):\n",
    "            if strs[i][0:length] != str1:\n",
    "                return False\n",
    "            i += 1\n",
    "        return True"
   ]
  },
  {
   "cell_type": "code",
   "execution_count": null,
   "metadata": {},
   "outputs": [],
   "source": []
  }
 ],
 "metadata": {
  "kernelspec": {
   "display_name": "Python 3",
   "language": "python",
   "name": "python3"
  },
  "language_info": {
   "codemirror_mode": {
    "name": "ipython",
    "version": 3
   },
   "file_extension": ".py",
   "mimetype": "text/x-python",
   "name": "python",
   "nbconvert_exporter": "python",
   "pygments_lexer": "ipython3",
   "version": "3.7.3"
  }
 },
 "nbformat": 4,
 "nbformat_minor": 2
}
