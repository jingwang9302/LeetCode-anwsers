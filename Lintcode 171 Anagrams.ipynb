{
 "cells": [
  {
   "cell_type": "markdown",
   "metadata": {},
   "source": [
    "# Lintcode 171. Anagrams\n"
   ]
  },
  {
   "cell_type": "markdown",
   "metadata": {},
   "source": [
    "Given an array of strings, return all groups of strings that are anagrams.\n",
    "\n",
    "Example 1:\n",
    "\n",
    "Input:[\"lint\", \"intl\", \"inlt\", \"code\"]\n",
    "\n",
    "Output:[\"lint\", \"inlt\", \"intl\"]\n",
    "\n",
    "Example 2:\n",
    "\n",
    "Input:[\"ab\", \"ba\", \"cd\", \"dc\", \"e\"]\n",
    "\n",
    "Output: [\"ab\", \"ba\", \"cd\", \"dc\"]\n"
   ]
  },
  {
   "cell_type": "code",
   "execution_count": 19,
   "metadata": {},
   "outputs": [],
   "source": [
    "class Solution:\n",
    "    \"\"\"\n",
    "    @param strs: A list of strings\n",
    "    @return: A list of strings\n",
    "    \"\"\"\n",
    "    def anagrams(self, strs):\n",
    "        di = dict()\n",
    "        output = []\n",
    "        \n",
    "        i = 0\n",
    "        while i < len(strs):\n",
    "            temp = sorted(strs[i])\n",
    "            temp = \"\".join(temp) #List to string\n",
    "            if temp not in di:\n",
    "                di[temp] = [i] # store a list[i]\n",
    "            else:\n",
    "                di[temp].append(i)\n",
    "            i += 1\n",
    "        \n",
    "        for value in di.values():\n",
    "            if len(value) > 1:\n",
    "                for i in value:\n",
    "                    output.append(strs[i])\n",
    "        return output\n",
    "            "
   ]
  }
 ],
 "metadata": {
  "kernelspec": {
   "display_name": "Python 3",
   "language": "python",
   "name": "python3"
  },
  "language_info": {
   "codemirror_mode": {
    "name": "ipython",
    "version": 3
   },
   "file_extension": ".py",
   "mimetype": "text/x-python",
   "name": "python",
   "nbconvert_exporter": "python",
   "pygments_lexer": "ipython3",
   "version": "3.7.3"
  }
 },
 "nbformat": 4,
 "nbformat_minor": 2
}
