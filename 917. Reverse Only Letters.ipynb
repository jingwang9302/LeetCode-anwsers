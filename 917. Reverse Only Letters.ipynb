{
 "cells": [
  {
   "cell_type": "markdown",
   "metadata": {},
   "source": [
    "# 917. Reverse Only Letters"
   ]
  },
  {
   "cell_type": "markdown",
   "metadata": {},
   "source": [
    "Given a string S, return the \"reversed\" string where all characters that are not a letter stay in the same place, and all letters reverse their positions.\n",
    "\n",
    " \n",
    "\n",
    "Example 1:\n",
    "\n",
    "Input: \"ab-cd\"\n",
    "\n",
    "Output: \"dc-ba\""
   ]
  },
  {
   "cell_type": "code",
   "execution_count": 1,
   "metadata": {},
   "outputs": [],
   "source": [
    "    #stack\n",
    "    def reverseOnlyLetters(self, S):\n",
    "        \"\"\"\n",
    "        :type S: str\n",
    "        :rtype: str\n",
    "        \"\"\"\n",
    "        ls = []\n",
    "        result = \"\"\n",
    "        for cha in S:\n",
    "            if cha.isalpha():\n",
    "                ls.append(cha)\n",
    "        for c in S:\n",
    "            if c.isalpha():\n",
    "                result += ls.pop()\n",
    "            else:\n",
    "                result += c\n",
    "        return result"
   ]
  },
  {
   "cell_type": "code",
   "execution_count": null,
   "metadata": {},
   "outputs": [],
   "source": []
  }
 ],
 "metadata": {
  "kernelspec": {
   "display_name": "Python 3",
   "language": "python",
   "name": "python3"
  },
  "language_info": {
   "codemirror_mode": {
    "name": "ipython",
    "version": 3
   },
   "file_extension": ".py",
   "mimetype": "text/x-python",
   "name": "python",
   "nbconvert_exporter": "python",
   "pygments_lexer": "ipython3",
   "version": "3.7.3"
  }
 },
 "nbformat": 4,
 "nbformat_minor": 2
}
