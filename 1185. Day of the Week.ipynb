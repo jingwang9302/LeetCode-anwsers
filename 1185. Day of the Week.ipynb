{
 "cells": [
  {
   "cell_type": "markdown",
   "metadata": {},
   "source": [
    "# 1185. Day of the Week"
   ]
  },
  {
   "cell_type": "raw",
   "metadata": {},
   "source": [
    "Given a date, return the corresponding day of the week for that date.\n",
    "\n",
    "The input is given as three integers representing the day, month and year respectively.\n",
    "\n",
    "Return the answer as one of the following values {\"Sunday\", \"Monday\", \"Tuesday\", \"Wednesday\", \"Thursday\", \"Friday\", \"Saturday\"}.\n",
    "\n",
    " \n",
    "\n",
    "Example 1:\n",
    "\n",
    "Input: day = 31, month = 8, year = 2019\n",
    "Output: \"Saturday\"\n",
    "Example 2:\n",
    "\n",
    "Input: day = 18, month = 7, year = 1999\n",
    "Output: \"Sunday\"\n",
    "Example 3:\n",
    "\n",
    "Input: day = 15, month = 8, year = 1993\n",
    "Output: \"Sunday\""
   ]
  },
  {
   "cell_type": "code",
   "execution_count": null,
   "metadata": {},
   "outputs": [],
   "source": [
    "class Solution:\n",
    "    def dayOfTheWeek(self, day: int, month: int, year: int) -> str: \n",
    "        leap_year_num = (year - 1969) //4\n",
    "        days_in_previous_years = (year-1971)*365 + leap_year_num\n",
    "        month_day = [0,\n",
    "                     0,\n",
    "                     31,\n",
    "                     31+28,\n",
    "                     31+28+31,\n",
    "                     31+28+31+30,\n",
    "                     31+28+31+30+31,\n",
    "                     31+28+31+30+31+30,\n",
    "                     31+28+31+30+31+30+31,\n",
    "                     31+28+31+30+31+30+31+31,\n",
    "                     31+28+31+30+31+30+31+31+30,\n",
    "                     31+28+31+30+31+30+31+31+30+31,\n",
    "                     31+28+31+30+31+30+31+31+30+31+30]\n",
    "        \n",
    "        days_in_previous_months = month_day[month]\n",
    "        \n",
    "        total_day = days_in_previous_years + days_in_previous_months + day\n",
    "        if year%4 == 0 and year%400 !=0 and month > 2:\n",
    "            total_day += 1\n",
    "        wee_days = [\"Thursday\", \"Friday\", \"Saturday\", \"Sunday\", \"Monday\", \"Tuesday\", \"Wednesday\"]\n",
    "        return wee_days[total_day%7]"
   ]
  }
 ],
 "metadata": {
  "kernelspec": {
   "display_name": "Python 3",
   "language": "python",
   "name": "python3"
  },
  "language_info": {
   "codemirror_mode": {
    "name": "ipython",
    "version": 3
   },
   "file_extension": ".py",
   "mimetype": "text/x-python",
   "name": "python",
   "nbconvert_exporter": "python",
   "pygments_lexer": "ipython3",
   "version": "3.7.3"
  }
 },
 "nbformat": 4,
 "nbformat_minor": 2
}
