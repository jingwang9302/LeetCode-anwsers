{
 "cells": [
  {
   "cell_type": "markdown",
   "metadata": {},
   "source": [
    "# 159. Longest Substring with At Most Two Distinct Characters"
   ]
  },
  {
   "cell_type": "raw",
   "metadata": {},
   "source": [
    "Given a string s , find the length of the longest substring t  that contains at most 2 distinct characters.\n",
    "\n",
    "Example 1:\n",
    "\n",
    "Input: \"eceba\"\n",
    "Output: 3\n",
    "Explanation: t is \"ece\" which its length is 3.\n",
    "Example 2:\n",
    "\n",
    "Input: \"ccaabbb\"\n",
    "Output: 5\n",
    "Explanation: t is \"aabbb\" which its length is 5.\n"
   ]
  },
  {
   "cell_type": "markdown",
   "metadata": {},
   "source": [
    "#### 思路： slicing window（小于k, r ++; 大于k，l--）\n",
    "* case1/2: len(s) < 3: return len(s)\n",
    "* case 2/2: len(s) > 3:\n",
    "    right 指针的数存入 di\n",
    "    判断 len(di)\n",
    "    * 2.1 len(di) < 3:\n",
    "    * 2.2 len(di) == 3: \n",
    "        * 找出要del 的index： del_index = min(di.values()), 因为一直要删最左边的数\n",
    "        * 移动 left 到del_index + 1\n",
    "    * 2.3 len(di) >3: 不存在， 会在 == 3时del操作\n",
    "    更新 max_len\n",
    "    \n",
    "di 存入形式： letter : index"
   ]
  },
  {
   "cell_type": "code",
   "execution_count": 50,
   "metadata": {},
   "outputs": [],
   "source": [
    "def lengthOfLongestSubstringTwoDistinct(s):\n",
    "    if len(s) < 3: return len(s)\n",
    "    \n",
    "    # len(s) >=3\n",
    "    left,right = 0,0\n",
    "    max_len = 2\n",
    "    di = {}\n",
    "    \n",
    "    while right < len(s):\n",
    "        di[s[right]] = right\n",
    "        if len(di) < 3:\n",
    "            right += 1\n",
    "        if len(di) == 3:\n",
    "            del_index = min(di.values())\n",
    "            del di[s[del_index]]\n",
    "            left =  del_index + 1\n",
    "        max_len = max(max_len, right-left)\n",
    "    return max_len\n",
    "            \n",
    "    \n",
    "    "
   ]
  },
  {
   "cell_type": "code",
   "execution_count": 51,
   "metadata": {},
   "outputs": [
    {
     "data": {
      "text/plain": [
       "8"
      ]
     },
     "execution_count": 51,
     "metadata": {},
     "output_type": "execute_result"
    }
   ],
   "source": [
    "s = \"leeeeeeetcoode\"\n",
    "lengthOfLongestSubstringTwoDistinct(s)"
   ]
  },
  {
   "cell_type": "code",
   "execution_count": null,
   "metadata": {},
   "outputs": [],
   "source": [
    "O（n）"
   ]
  }
 ],
 "metadata": {
  "kernelspec": {
   "display_name": "Python 3",
   "language": "python",
   "name": "python3"
  },
  "language_info": {
   "codemirror_mode": {
    "name": "ipython",
    "version": 3
   },
   "file_extension": ".py",
   "mimetype": "text/x-python",
   "name": "python",
   "nbconvert_exporter": "python",
   "pygments_lexer": "ipython3",
   "version": "3.7.4"
  }
 },
 "nbformat": 4,
 "nbformat_minor": 2
}
