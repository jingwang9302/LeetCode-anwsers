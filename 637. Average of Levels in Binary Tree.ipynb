{
 "cells": [
  {
   "cell_type": "markdown",
   "metadata": {},
   "source": [
    "# 637. Average of Levels in Binary Tree"
   ]
  },
  {
   "cell_type": "raw",
   "metadata": {},
   "source": [
    "Given a non-empty binary tree, return the average value of the nodes on each level in the form of an array.\n",
    "Example 1:\n",
    "Input:\n",
    "    3\n",
    "   / \\\n",
    "  9  20\n",
    "    /  \\\n",
    "   15   7\n",
    "Output: [3, 14.5, 11]\n",
    "Explanation:\n",
    "The average value of nodes on level 0 is 3,  on level 1 is 14.5, and on level 2 is 11. Hence return [3, 14.5, 11]."
   ]
  },
  {
   "cell_type": "markdown",
   "metadata": {},
   "source": [
    "**Similar to 102: binary tree level order traverse**\n",
    "* 需要每一层的average， average = sum/count，所以要找到sum 和count\n",
    "* 用dict可以同时记录sum 和count\n",
    "* 最后for整个res（是一个dict list），求average"
   ]
  },
  {
   "cell_type": "code",
   "execution_count": null,
   "metadata": {},
   "outputs": [],
   "source": [
    "# Definition for a binary tree node.\n",
    "# class TreeNode:\n",
    "#     def __init__(self, x):\n",
    "#         self.val = x\n",
    "#         self.left = None\n",
    "#         self.right = None\n",
    "\n",
    "class Solution:\n",
    "    def averageOfLevels(self, root: TreeNode) -> List[float]:\n",
    "        self.res=[]\n",
    "        self.dfsTraverse(root,0)\n",
    "        return [x['sum']/x['count'] for x in self.res]\n",
    "    def dfsTraverse(self,root,level):\n",
    "        if root == None:\n",
    "            return\n",
    "        if len(self.res) < level+1:\n",
    "            self.res.append({'sum':0,'count':0})\n",
    "        self.res[level]['sum'] += root.val\n",
    "        self.res[level]['count'] += 1\n",
    "        self.dfsTraverse(root.left,level+1)\n",
    "        self.dfsTraverse(root.right,level+1)\n",
    "        "
   ]
  }
 ],
 "metadata": {
  "kernelspec": {
   "display_name": "Python 3",
   "language": "python",
   "name": "python3"
  },
  "language_info": {
   "codemirror_mode": {
    "name": "ipython",
    "version": 3
   },
   "file_extension": ".py",
   "mimetype": "text/x-python",
   "name": "python",
   "nbconvert_exporter": "python",
   "pygments_lexer": "ipython3",
   "version": "3.7.3"
  }
 },
 "nbformat": 4,
 "nbformat_minor": 2
}
