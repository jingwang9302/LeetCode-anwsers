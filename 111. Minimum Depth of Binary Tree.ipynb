{
 "cells": [
  {
   "cell_type": "markdown",
   "metadata": {},
   "source": [
    "# 111. Minimum Depth of Binary Tree\n"
   ]
  },
  {
   "cell_type": "raw",
   "metadata": {},
   "source": [
    "Given a binary tree, find its minimum depth.\n",
    "\n",
    "The minimum depth is the number of nodes along the shortest path from the root node down to the nearest leaf node.\n",
    "\n",
    "Note: A leaf is a node with no children.\n",
    "\n",
    "Example:\n",
    "\n",
    "Given binary tree [3,9,20,null,null,15,7],\n",
    "\n",
    "    3\n",
    "   / \\\n",
    "  9  20\n",
    "    /  \\\n",
    "   15   7"
   ]
  },
  {
   "cell_type": "code",
   "execution_count": null,
   "metadata": {},
   "outputs": [],
   "source": [
    "    def minDepth(self, root: TreeNode) -> int:\n",
    "        if not root:\n",
    "            return 0\n",
    "        if root.left and root.right:\n",
    "            left = self.minDepth(root.left)\n",
    "            right = self.minDepth(root.right)\n",
    "            \n",
    "            return 1 + min(left,right)\n",
    "        if not root.left or not root.right:\n",
    "            return 1+max(self.minDepth(root.left),self.minDepth(root.right))"
   ]
  }
 ],
 "metadata": {
  "kernelspec": {
   "display_name": "Python 3",
   "language": "python",
   "name": "python3"
  },
  "language_info": {
   "codemirror_mode": {
    "name": "ipython",
    "version": 3
   },
   "file_extension": ".py",
   "mimetype": "text/x-python",
   "name": "python",
   "nbconvert_exporter": "python",
   "pygments_lexer": "ipython3",
   "version": "3.7.3"
  }
 },
 "nbformat": 4,
 "nbformat_minor": 2
}
