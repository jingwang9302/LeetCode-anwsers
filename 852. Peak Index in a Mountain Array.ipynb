{
 "cells": [
  {
   "cell_type": "markdown",
   "metadata": {},
   "source": [
    "# 852. Peak Index in a Mountain Array"
   ]
  },
  {
   "cell_type": "raw",
   "metadata": {},
   "source": [
    "Let's call an array A a mountain if the following properties hold:\n",
    "\n",
    "A.length >= 3\n",
    "There exists some 0 < i < A.length - 1 such that A[0] < A[1] < ... A[i-1] < A[i] > A[i+1] > ... > A[A.length - 1]\n",
    "Given an array that is definitely a mountain, return any i such that A[0] < A[1] < ... A[i-1] < A[i] > A[i+1] > ... > A[A.length - 1].\n",
    "\n",
    "Example 1:\n",
    "\n",
    "Input: [0,1,0]\n",
    "Output: 1\n",
    "Example 2:\n",
    "\n",
    "Input: [0,2,1,0]\n",
    "Output: 1"
   ]
  },
  {
   "cell_type": "code",
   "execution_count": null,
   "metadata": {},
   "outputs": [],
   "source": [
    "    def peakIndexInMountainArray(self, A: List[int]) -> int:\n",
    "        if not A:\n",
    "            return -1\n",
    "        start = 0\n",
    "        end = len(A)-1\n",
    "        while start+1 < end:\n",
    "            mid = (start+end)//2\n",
    "            if A[mid] <A[mid+1]:\n",
    "                start = mid\n",
    "            else:\n",
    "                end = mid\n",
    "        return end"
   ]
  }
 ],
 "metadata": {
  "kernelspec": {
   "display_name": "Python 3",
   "language": "python",
   "name": "python3"
  },
  "language_info": {
   "codemirror_mode": {
    "name": "ipython",
    "version": 3
   },
   "file_extension": ".py",
   "mimetype": "text/x-python",
   "name": "python",
   "nbconvert_exporter": "python",
   "pygments_lexer": "ipython3",
   "version": "3.7.3"
  }
 },
 "nbformat": 4,
 "nbformat_minor": 2
}
