{
 "cells": [
  {
   "cell_type": "markdown",
   "metadata": {},
   "source": [
    "# 444. Sequence Reconstruction"
   ]
  },
  {
   "cell_type": "raw",
   "metadata": {},
   "source": [
    "Check whether the original sequence org can be uniquely reconstructed from the sequences in seqs. The org sequence is a permutation of the integers from 1 to n, with 1 ≤ n ≤ 10^4. Reconstruction means building a shortest common supersequence of the sequences in seqs (i.e., a shortest sequence so that all sequences in seqs are subsequences of it). Determine whether there is only one sequence that can be reconstructed from seqs and it is the org sequence.\n",
    "\n",
    "Example\n",
    "Example 1:\n",
    "\n",
    "Input:org = [1,2,3], seqs = [[1,2],[1,3]]\n",
    "Output: false\n",
    "Explanation:\n",
    "[1,2,3] is not the only one sequence that can be reconstructed, because [1,3,2] is also a valid sequence that can be reconstructed.\n",
    "Example 2:\n",
    "\n",
    "Input: org = [1,2,3], seqs = [[1,2]]\n",
    "Output: false\n",
    "Explanation:\n",
    "The reconstructed sequence can only be [1,2].\n",
    "Example 3:\n",
    "\n",
    "Input: org = [1,2,3], seqs = [[1,2],[1,3],[2,3]]\n",
    "Output: true\n",
    "Explanation:\n",
    "The sequences [1,2], [1,3], and [2,3] can uniquely reconstruct the original sequence [1,2,3].\n",
    "Example 4:\n",
    "\n",
    "Input:org = [4,1,5,2,6,3], seqs = [[5,2,6,3],[4,1,5,2]]\n",
    "Output:true\n"
   ]
  },
  {
   "cell_type": "code",
   "execution_count": null,
   "metadata": {},
   "outputs": [],
   "source": [
    "class Solution:\n",
    "    \"\"\"\n",
    "    @param org: a permutation of the integers from 1 to n\n",
    "    @param seqs: a list of sequences\n",
    "    @return: true if it can be reconstructed only one or false\n",
    "    \"\"\"\n",
    "    def sequenceReconstruction(self, org, seqs):\n",
    "        # write your code here\n",
    "        graph = {}\n",
    "        \n",
    "        for seq in seqs:\n",
    "            for node in seq:\n",
    "                if node not in graph:\n",
    "                    graph[node] = set()\n",
    "                    \n",
    "        for seq in seqs:\n",
    "            for i in range(1,len(seq)):\n",
    "                graph[seq[i-1]].add(seq[i])\n",
    "                \n",
    "        indegree = {node: 0 for node in graph}\n",
    "        for node in graph:\n",
    "            for neighbor in graph[node]:\n",
    "                indegree[neighbor] += 1\n",
    "                \n",
    "        queue = []\n",
    "        for node in indegree:\n",
    "            if indegree[node] == 0:\n",
    "                queue.append(node)\n",
    "        \n",
    "        top_order = []\n",
    "        while queue:\n",
    "            if len(queue) > 1:\n",
    "                return False\n",
    "            \n",
    "            node = queue.pop(0)\n",
    "            top_order.append(node)\n",
    "            for neighbor in graph[node]:\n",
    "                indegree[neighbor] -= 1\n",
    "                if indegree[neighbor] == 0:\n",
    "                    queue.append(neighbor)\n",
    "        \n",
    "        return top_order == org and len(top_order) == len(org)"
   ]
  }
 ],
 "metadata": {
  "kernelspec": {
   "display_name": "Python 3",
   "language": "python",
   "name": "python3"
  },
  "language_info": {
   "codemirror_mode": {
    "name": "ipython",
    "version": 3
   },
   "file_extension": ".py",
   "mimetype": "text/x-python",
   "name": "python",
   "nbconvert_exporter": "python",
   "pygments_lexer": "ipython3",
   "version": "3.7.3"
  }
 },
 "nbformat": 4,
 "nbformat_minor": 2
}
