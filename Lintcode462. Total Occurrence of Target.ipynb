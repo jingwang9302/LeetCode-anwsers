{
 "cells": [
  {
   "cell_type": "markdown",
   "metadata": {},
   "source": [
    "# 462. Total Occurrence of Target\n"
   ]
  },
  {
   "cell_type": "raw",
   "metadata": {},
   "source": [
    "Given a target number and an integer array sorted in ascending order. Find the total number of occurrences of target in the array.\n",
    "\n",
    "Example\n",
    "Example1:\n",
    "\n",
    "Input: [1, 3, 3, 4, 5] and target = 3, \n",
    "Output: 2.\n",
    "Example2:\n",
    "\n",
    "Input: [2, 2, 3, 4, 6] and target = 4, \n",
    "Output: 1.\n",
    "Example3:\n",
    "\n",
    "Input: [1, 2, 3, 4, 5] and target = 6, \n",
    "Output: 0.\n",
    "Challenge\n",
    "Time complexity in O(logn)"
   ]
  },
  {
   "cell_type": "code",
   "execution_count": null,
   "metadata": {},
   "outputs": [],
   "source": [
    "    def totalOccurrence(self, A, target):\n",
    "        # write your code here\n",
    "        if not A:\n",
    "            return 0\n",
    "            \n",
    "        start = 0\n",
    "        end = len(A) - 1\n",
    "        \n",
    "        #first occurrence\n",
    "        while start + 1 < end:\n",
    "            mid  = (start + end) // 2\n",
    "            if A[mid] < target:\n",
    "                start = mid\n",
    "            else:\n",
    "                end = mid\n",
    "        if A[start] == target:\n",
    "            head =  start\n",
    "        elif A[end] == target:\n",
    "            head =  end\n",
    "        else:\n",
    "            head = -1\n",
    "        \n",
    "        #last occurence\n",
    "        start = 0\n",
    "        end = len(A) - 1\n",
    "        while start + 1 < end:\n",
    "            mid = (start + end) // 2\n",
    "            if A[mid] <= target:\n",
    "                start = mid\n",
    "            else:\n",
    "                end = mid\n",
    "        if A[end] == target:\n",
    "            tail = end\n",
    "        elif A[start] == target:\n",
    "            tail = start\n",
    "        else:\n",
    "            tail = -1\n",
    "            \n",
    "        if head >=0 and tail >= 0:\n",
    "            return tail - head +1\n",
    "        else:\n",
    "            return 0"
   ]
  }
 ],
 "metadata": {
  "kernelspec": {
   "display_name": "Python 3",
   "language": "python",
   "name": "python3"
  },
  "language_info": {
   "codemirror_mode": {
    "name": "ipython",
    "version": 3
   },
   "file_extension": ".py",
   "mimetype": "text/x-python",
   "name": "python",
   "nbconvert_exporter": "python",
   "pygments_lexer": "ipython3",
   "version": "3.7.3"
  }
 },
 "nbformat": 4,
 "nbformat_minor": 2
}
