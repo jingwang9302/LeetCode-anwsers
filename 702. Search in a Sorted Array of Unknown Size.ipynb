{
 "cells": [
  {
   "cell_type": "markdown",
   "metadata": {},
   "source": [
    "# 702. Search in a Sorted Array of Unknown Size\n"
   ]
  },
  {
   "cell_type": "markdown",
   "metadata": {},
   "source": [
    "### Lintcode 447\n"
   ]
  },
  {
   "cell_type": "raw",
   "metadata": {},
   "source": [
    "Given a big sorted array with non-negative integers sorted by non-decreasing order. The array is so big so that you can not get the length of the whole array directly, and you can only access the kth number by ArrayReader.get(k) (or ArrayReader->get(k) for C++).\n",
    "\n",
    "Find the first index of a target number. Your algorithm should be in O(log k), where k is the first index of the target number.\n",
    "\n",
    "Return -1, if the number doesn't exist in the array.\n",
    "\n",
    "Example\n",
    "Example 1:\n",
    "\n",
    "Input: [1, 3, 6, 9, 21, ...], target = 3\n",
    "Output: 1\n",
    "Example 2:\n",
    "\n",
    "Input: [1, 3, 6, 9, 21, ...], target = 4\n",
    "Output: -1"
   ]
  },
  {
   "cell_type": "code",
   "execution_count": null,
   "metadata": {},
   "outputs": [],
   "source": [
    "    def searchBigSortedArray(self, reader, target):\n",
    "        # write your code here\n",
    "        index = 0\n",
    "        while reader.get(index) < target:\n",
    "            index = index * 2 + 1\n",
    "        start = 0\n",
    "        end = index\n",
    "        while start + 1 < end:\n",
    "            mid = (start + end) // 2\n",
    "            if reader.get(mid) < target:\n",
    "                start = mid\n",
    "            else:\n",
    "                end = mid\n",
    "        if reader.get(start) == target:\n",
    "            return start\n",
    "        if reader.get(end) == target:\n",
    "            return end\n",
    "        return -1"
   ]
  }
 ],
 "metadata": {
  "kernelspec": {
   "display_name": "Python 3",
   "language": "python",
   "name": "python3"
  },
  "language_info": {
   "codemirror_mode": {
    "name": "ipython",
    "version": 3
   },
   "file_extension": ".py",
   "mimetype": "text/x-python",
   "name": "python",
   "nbconvert_exporter": "python",
   "pygments_lexer": "ipython3",
   "version": "3.7.3"
  }
 },
 "nbformat": 4,
 "nbformat_minor": 2
}
