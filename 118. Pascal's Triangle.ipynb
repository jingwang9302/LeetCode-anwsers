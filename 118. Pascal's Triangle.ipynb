{
 "cells": [
  {
   "cell_type": "markdown",
   "metadata": {},
   "source": [
    "# 118. Pascal's Triangle"
   ]
  },
  {
   "cell_type": "raw",
   "metadata": {},
   "source": [
    "Input: 5\n",
    "Output:\n",
    "[\n",
    "     [1],\n",
    "    [1,1],\n",
    "   [1,2,1],\n",
    "  [1,3,3,1],\n",
    " [1,4,6,4,1]\n",
    "]"
   ]
  },
  {
   "cell_type": "code",
   "execution_count": null,
   "metadata": {},
   "outputs": [],
   "source": [
    "     def generate(self, numRows: int):\n",
    "        triangle = []\n",
    "        for i in range(1,numRows+1):\n",
    "            triangle.append([1]*i)\n",
    "            \n",
    "        #row start from row 1 to row numRows\n",
    "        # i start from index 0 to index numRows -1 \n",
    "        #(the first and last eles have already set to 1)\n",
    "        \n",
    "        for row in range(numRows):\n",
    "            for j in range(1,row):\n",
    "            \n",
    "                triangle[row][j] = triangle[row-1][j-1] + triangle[row-1][j]\n",
    "        return triangle\n",
    "            \n",
    "   "
   ]
  },
  {
   "cell_type": "code",
   "execution_count": null,
   "metadata": {},
   "outputs": [],
   "source": []
  }
 ],
 "metadata": {
  "kernelspec": {
   "display_name": "Python 3",
   "language": "python",
   "name": "python3"
  },
  "language_info": {
   "codemirror_mode": {
    "name": "ipython",
    "version": 3
   },
   "file_extension": ".py",
   "mimetype": "text/x-python",
   "name": "python",
   "nbconvert_exporter": "python",
   "pygments_lexer": "ipython3",
   "version": "3.7.3"
  }
 },
 "nbformat": 4,
 "nbformat_minor": 2
}
