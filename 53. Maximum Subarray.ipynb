{
 "cells": [
  {
   "cell_type": "markdown",
   "metadata": {},
   "source": [
    "# 53. Maximum Subarray"
   ]
  },
  {
   "cell_type": "markdown",
   "metadata": {},
   "source": [
    "Given an integer array nums, find the contiguous subarray (containing at least one number) which has the largest sum and return its sum.\n",
    "\n",
    "Example:\n",
    "\n",
    "Input: [-2,1,-3,4,-1,2,1,-5,4],\n",
    "\n",
    "Output: 6\n",
    "\n",
    "Explanation: [4,-1,2,1] has the largest sum = 6."
   ]
  },
  {
   "cell_type": "code",
   "execution_count": 12,
   "metadata": {},
   "outputs": [],
   "source": [
    "    #divide and conquer\n",
    "    def maxSubArray(self, nums):\n",
    "        \"\"\"\n",
    "        :type nums: List[int]\n",
    "        :rtype: int\n",
    "        \"\"\"\n",
    "        return self.maxSubArrayHelper(nums,0,len(nums)-1)\n",
    "        \n",
    "    def maxSubArrayHelper(self,nums,l,r):\n",
    "        if l>r:\n",
    "            return -2147483647\n",
    "        \n",
    "        mid = (l+r)//2\n",
    "        \n",
    "        currentSum = leftMax = 0\n",
    "        for left in range(mid-1,l-1,-1):\n",
    "            currentSum += nums[left] \n",
    "            leftMax = max(currentSum, leftMax)\n",
    "            \n",
    "        currentSum = rightMax = 0        \n",
    "        for right in range(mid+1,r+1):\n",
    "            currentSum += nums[right]\n",
    "            rightMax = max(currentSum,rightMax)\n",
    "            \n",
    "        leftAns = self.maxSubArrayHelper(nums,l,mid-1)\n",
    "        rightAns = self.maxSubArrayHelper(nums,mid+1,r)\n",
    "        \n",
    "        ans = max(leftAns,rightAns)\n",
    "        return max(ans,leftMax + rightMax+nums[mid])\n",
    "            \n",
    "            \n"
   ]
  },
  {
   "cell_type": "code",
   "execution_count": null,
   "metadata": {},
   "outputs": [],
   "source": [
    "    #\n",
    "    def maxSubArray(self, nums):\n",
    "        \"\"\"\n",
    "        :type nums: List[int]\n",
    "        :rtype: int\n",
    "        \"\"\"\n",
    "        if len(nums) == 0:\n",
    "            return 0\n",
    "        currentSum = maxSum = nums[0]\n",
    "        for num in nums[1:]:\n",
    "            currentSum = max(num, currentSum + num) \n",
    "            maxSum = max(maxSum, currentSum)\n",
    "        return maxSum"
   ]
  },
  {
   "cell_type": "code",
   "execution_count": null,
   "metadata": {},
   "outputs": [],
   "source": []
  }
 ],
 "metadata": {
  "kernelspec": {
   "display_name": "Python 3",
   "language": "python",
   "name": "python3"
  },
  "language_info": {
   "codemirror_mode": {
    "name": "ipython",
    "version": 3
   },
   "file_extension": ".py",
   "mimetype": "text/x-python",
   "name": "python",
   "nbconvert_exporter": "python",
   "pygments_lexer": "ipython3",
   "version": "3.7.3"
  }
 },
 "nbformat": 4,
 "nbformat_minor": 2
}
