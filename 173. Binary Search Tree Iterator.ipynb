{
 "cells": [
  {
   "cell_type": "markdown",
   "metadata": {},
   "source": [
    "# 173. Binary Search Tree Iterator"
   ]
  },
  {
   "cell_type": "raw",
   "metadata": {},
   "source": [
    "Implement an iterator over a binary search tree (BST). Your iterator will be initialized with the root node of a BST.\n",
    "\n",
    "Calling next() will return the next smallest number in the BST.\n",
    "\n",
    "\n",
    "BSTIterator iterator = new BSTIterator(root);\n",
    "iterator.next();    // return 3\n",
    "iterator.next();    // return 7\n",
    "iterator.hasNext(); // return true\n",
    "iterator.next();    // return 9\n",
    "iterator.hasNext(); // return true\n",
    "iterator.next();    // return 15\n",
    "iterator.hasNext(); // return true\n",
    "iterator.next();    // return 20\n",
    "iterator.hasNext(); // return false"
   ]
  },
  {
   "cell_type": "code",
   "execution_count": null,
   "metadata": {},
   "outputs": [],
   "source": [
    "# Definition for a binary tree node.\n",
    "# class TreeNode:\n",
    "#     def __init__(self, x):\n",
    "#         self.val = x\n",
    "#         self.left = None\n",
    "#         self.right = None\n",
    "\n",
    "class BSTIterator:\n",
    "\n",
    "    def __init__(self, root: TreeNode):\n",
    "        self.sortedList = []\n",
    "        self.index = -1\n",
    "        self.inorder(root)\n",
    "    \n",
    "    def next(self) -> int:\n",
    "        \"\"\"\n",
    "        @return the next smallest number\n",
    "        \"\"\"\n",
    "        self.index += 1\n",
    "        return self.sortedList[self.index]\n",
    "\n",
    "    def hasNext(self) -> bool:\n",
    "        \"\"\"\n",
    "        @return whether we have a next smallest number\n",
    "        \"\"\"\n",
    "        return self.index+1 < len(self.sortedList)\n",
    "    \n",
    "    def inorder(self,root):\n",
    "        if not root:\n",
    "            return \n",
    "        self.inorder(root.left)\n",
    "        self.sortedList.append(root.val)\n",
    "        self.inorder(root.right)\n",
    "        \n",
    "        \n"
   ]
  }
 ],
 "metadata": {
  "kernelspec": {
   "display_name": "Python 3",
   "language": "python",
   "name": "python3"
  },
  "language_info": {
   "codemirror_mode": {
    "name": "ipython",
    "version": 3
   },
   "file_extension": ".py",
   "mimetype": "text/x-python",
   "name": "python",
   "nbconvert_exporter": "python",
   "pygments_lexer": "ipython3",
   "version": "3.7.3"
  }
 },
 "nbformat": 4,
 "nbformat_minor": 2
}
