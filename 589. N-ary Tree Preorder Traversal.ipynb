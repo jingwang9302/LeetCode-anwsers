{
 "cells": [
  {
   "cell_type": "markdown",
   "metadata": {},
   "source": [
    "# 589. N-ary Tree Preorder Traversal"
   ]
  },
  {
   "cell_type": "raw",
   "metadata": {},
   "source": [
    "Given an n-ary tree, return the preorder traversal of its nodes' values.\n",
    "\n",
    "For example, given a 3-ary tree:\n",
    "\n",
    " \n",
    "\n",
    "\n",
    "\n",
    " \n",
    "\n",
    "Return its preorder traversal as: [1,3,5,6,2,4]."
   ]
  },
  {
   "cell_type": "code",
   "execution_count": 2,
   "metadata": {},
   "outputs": [],
   "source": [
    "    #recursion\n",
    "    def preorder(self, root: 'Node'):\n",
    "        if not root:\n",
    "            return []\n",
    "        output = []\n",
    "        output.append(root.val)\n",
    "        for c in root.children:\n",
    "            output += self.preorder(c)\n",
    "        return output"
   ]
  },
  {
   "cell_type": "code",
   "execution_count": 4,
   "metadata": {},
   "outputs": [],
   "source": [
    "\"\"\"\n",
    "# Definition for a Node.\n",
    "class Node:\n",
    "    def __init__(self, val, children):\n",
    "        self.val = val\n",
    "        self.children = children\n",
    "\"\"\"\n",
    "#stack\n",
    "class Solution:\n",
    "    def preorder(self, root: 'Node'):\n",
    "        if not root:\n",
    "            return []\n",
    "        stack = []\n",
    "        output = []\n",
    "        stack.append(root)\n",
    "        while stack:\n",
    "            root = stack.pop()\n",
    "            output.append(root.val)\n",
    "            for i in range(len(root.children)-1,-1,-1):\n",
    "                stack.append(root.children[i])\n",
    "        return output"
   ]
  },
  {
   "cell_type": "code",
   "execution_count": null,
   "metadata": {},
   "outputs": [],
   "source": []
  }
 ],
 "metadata": {
  "kernelspec": {
   "display_name": "Python 3",
   "language": "python",
   "name": "python3"
  },
  "language_info": {
   "codemirror_mode": {
    "name": "ipython",
    "version": 3
   },
   "file_extension": ".py",
   "mimetype": "text/x-python",
   "name": "python",
   "nbconvert_exporter": "python",
   "pygments_lexer": "ipython3",
   "version": "3.7.3"
  }
 },
 "nbformat": 4,
 "nbformat_minor": 2
}
