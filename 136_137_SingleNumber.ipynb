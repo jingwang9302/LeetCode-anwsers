{
 "cells": [
  {
   "cell_type": "markdown",
   "metadata": {},
   "source": [
    "# 136_137_Single Number"
   ]
  },
  {
   "cell_type": "markdown",
   "metadata": {},
   "source": [
    "136: Given a non-empty array of integers, every element appears twice except for one. Find that single one.\n",
    "\n",
    "Input: [2,2,1]\n",
    "\n",
    "Output: 1\n",
    "\n",
    "137: Given a non-empty array of integers, every element appears three times except for one, which appears exactly once. Find that single one.\n"
   ]
  },
  {
   "cell_type": "code",
   "execution_count": 13,
   "metadata": {},
   "outputs": [],
   "source": [
    "# Solution for both\n",
    "\n",
    "def singleNumber1(nums):\n",
    "    d = dict()\n",
    "    for num in nums:\n",
    "        if num not in d:\n",
    "            d[num] = 1\n",
    "        else:\n",
    "            d[num] += 1\n",
    "    for target in d:\n",
    "        if d[target] == 1:\n",
    "            return target"
   ]
  },
  {
   "cell_type": "code",
   "execution_count": 14,
   "metadata": {},
   "outputs": [],
   "source": [
    "# solution for 136\n",
    "def singleNumber2(nums):\n",
    "    seen = []\n",
    "    for i in nums:\n",
    "        if i not in seen:\n",
    "            seen.append(i)\n",
    "        else:\n",
    "            seen.remove(i)\n",
    "    return seen.pop()"
   ]
  },
  {
   "cell_type": "code",
   "execution_count": 15,
   "metadata": {},
   "outputs": [],
   "source": [
    "#solution for 136 (Math)\n",
    "def singleNumber3(nums):\n",
    "    return(2*sum(set(nums)) - sum(nums) )"
   ]
  },
  {
   "cell_type": "code",
   "execution_count": 17,
   "metadata": {},
   "outputs": [
    {
     "data": {
      "text/plain": [
       "1"
      ]
     },
     "execution_count": 17,
     "metadata": {},
     "output_type": "execute_result"
    }
   ],
   "source": [
    "A = [2,2,3,3,1]\n",
    "singleNumber1(A)"
   ]
  },
  {
   "cell_type": "code",
   "execution_count": 18,
   "metadata": {},
   "outputs": [
    {
     "data": {
      "text/plain": [
       "2"
      ]
     },
     "execution_count": 18,
     "metadata": {},
     "output_type": "execute_result"
    }
   ],
   "source": [
    "B = [1,2,3,3,1]\n",
    "singleNumber1(B)"
   ]
  },
  {
   "cell_type": "code",
   "execution_count": 19,
   "metadata": {},
   "outputs": [
    {
     "data": {
      "text/plain": [
       "3"
      ]
     },
     "execution_count": 19,
     "metadata": {},
     "output_type": "execute_result"
    }
   ],
   "source": [
    "C = [2,2,1,3,1]\n",
    "singleNumber1(C)"
   ]
  }
 ],
 "metadata": {
  "kernelspec": {
   "display_name": "Python 3",
   "language": "python",
   "name": "python3"
  },
  "language_info": {
   "codemirror_mode": {
    "name": "ipython",
    "version": 3
   },
   "file_extension": ".py",
   "mimetype": "text/x-python",
   "name": "python",
   "nbconvert_exporter": "python",
   "pygments_lexer": "ipython3",
   "version": "3.7.3"
  }
 },
 "nbformat": 4,
 "nbformat_minor": 2
}
