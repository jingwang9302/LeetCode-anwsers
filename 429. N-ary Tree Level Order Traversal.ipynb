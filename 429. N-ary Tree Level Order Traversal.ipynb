{
 "cells": [
  {
   "cell_type": "markdown",
   "metadata": {},
   "source": [
    "# 429. N-ary Tree Level Order Traversal"
   ]
  },
  {
   "cell_type": "raw",
   "metadata": {},
   "source": [
    "Given an n-ary tree, return the level order traversal of its nodes' values. (ie, from left to right, level by level).\n",
    "\n",
    "For example, given a 3-ary tree:\n",
    "\n",
    "We should return its level order traversal:\n",
    "\n",
    "[\n",
    "     [1],\n",
    "     [3,2,4],\n",
    "     [5,6]\n",
    "]"
   ]
  },
  {
   "cell_type": "code",
   "execution_count": 1,
   "metadata": {},
   "outputs": [],
   "source": [
    "    def levelOrder(self, root: 'Node'):\n",
    "        if not root:\n",
    "            return []\n",
    "        res=[[]]\n",
    "        queue = [(root,0)]\n",
    "        while queue:\n",
    "            node,level = queue.pop(0)\n",
    "            if level >= len(res):\n",
    "                res.append([])\n",
    "            res[level].append(node.val)\n",
    "            for child in node.children:\n",
    "                queue.append((child,level+1))\n",
    "        return res\n",
    "                "
   ]
  },
  {
   "cell_type": "code",
   "execution_count": null,
   "metadata": {},
   "outputs": [],
   "source": []
  }
 ],
 "metadata": {
  "kernelspec": {
   "display_name": "Python 3",
   "language": "python",
   "name": "python3"
  },
  "language_info": {
   "codemirror_mode": {
    "name": "ipython",
    "version": 3
   },
   "file_extension": ".py",
   "mimetype": "text/x-python",
   "name": "python",
   "nbconvert_exporter": "python",
   "pygments_lexer": "ipython3",
   "version": "3.7.3"
  }
 },
 "nbformat": 4,
 "nbformat_minor": 2
}
