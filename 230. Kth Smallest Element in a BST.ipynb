{
 "cells": [
  {
   "cell_type": "markdown",
   "metadata": {},
   "source": [
    "# 230. Kth Smallest Element in a BST"
   ]
  },
  {
   "cell_type": "raw",
   "metadata": {},
   "source": [
    "Given a binary search tree, write a function kthSmallest to find the kth smallest element in it.\n",
    "\n",
    "Note:\n",
    "You may assume k is always valid, 1 ≤ k ≤ BST's total elements.\n",
    "\n",
    "Example 1:\n",
    "\n",
    "Input: root = [3,1,4,null,2], k = 1\n",
    "   3\n",
    "  / \\\n",
    " 1   4\n",
    "  \\\n",
    "   2\n",
    "Output: 1\n",
    "Example 2:\n",
    "\n",
    "Input: root = [5,3,6,2,4,null,null,1], k = 3\n",
    "       5\n",
    "      / \\\n",
    "     3   6\n",
    "    / \\\n",
    "   2   4\n",
    "  /\n",
    " 1\n",
    "Output: 3"
   ]
  },
  {
   "cell_type": "code",
   "execution_count": null,
   "metadata": {},
   "outputs": [],
   "source": [
    "# Definition for a binary tree node.\n",
    "# class TreeNode:\n",
    "#     def __init__(self, x):\n",
    "#         self.val = x\n",
    "#         self.left = None\n",
    "#         self.right = None\n",
    "\n",
    "class Solution:\n",
    "    def kthSmallest(self, root: TreeNode, k: int) -> int:\n",
    "        orderedList = []\n",
    "        self.inorder(root,orderedList)\n",
    "        return orderedList[k-1]\n",
    "    def inorder(self,root,orderedList):\n",
    "        \n",
    "        if root:\n",
    "            self.inorder(root.left,orderedList)\n",
    "            orderedList.append(root.val)\n",
    "            self.inorder(root.right,orderedList)"
   ]
  }
 ],
 "metadata": {
  "kernelspec": {
   "display_name": "Python 3",
   "language": "python",
   "name": "python3"
  },
  "language_info": {
   "codemirror_mode": {
    "name": "ipython",
    "version": 3
   },
   "file_extension": ".py",
   "mimetype": "text/x-python",
   "name": "python",
   "nbconvert_exporter": "python",
   "pygments_lexer": "ipython3",
   "version": "3.7.3"
  }
 },
 "nbformat": 4,
 "nbformat_minor": 2
}
