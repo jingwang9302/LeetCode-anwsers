{
 "cells": [
  {
   "cell_type": "markdown",
   "metadata": {},
   "source": [
    "# 119. Pascal's Triangle II"
   ]
  },
  {
   "cell_type": "raw",
   "metadata": {},
   "source": [
    "Given a non-negative index k where k ≤ 33, return the kth index row of the Pascal's triangle.\n",
    "\n",
    "Note that the row index starts from 0.\n",
    "\n",
    "\n",
    "In Pascal's triangle, each number is the sum of the two numbers directly above it.\n",
    "\n",
    "Example:\n",
    "\n",
    "Input: 3\n",
    "Output: [1,3,3,1]"
   ]
  },
  {
   "cell_type": "code",
   "execution_count": null,
   "metadata": {},
   "outputs": [],
   "source": [
    "    def getRow(self, rowIndex: int) -> List[int]:\n",
    "        if rowIndex == 0:\n",
    "            return [1]\n",
    "        if rowIndex == 1:\n",
    "            return [1,1]\n",
    "        pre = [1,1]\n",
    "        for i in range(2,rowIndex+1):\n",
    "            nex = [1]*(i+1)\n",
    "            for j in range(1,i):\n",
    "                nex[j] = pre[j-1]+pre[j]\n",
    "            pre = nex\n",
    "        return pre"
   ]
  }
 ],
 "metadata": {
  "kernelspec": {
   "display_name": "Python 3",
   "language": "python",
   "name": "python3"
  },
  "language_info": {
   "codemirror_mode": {
    "name": "ipython",
    "version": 3
   },
   "file_extension": ".py",
   "mimetype": "text/x-python",
   "name": "python",
   "nbconvert_exporter": "python",
   "pygments_lexer": "ipython3",
   "version": "3.7.3"
  }
 },
 "nbformat": 4,
 "nbformat_minor": 2
}
