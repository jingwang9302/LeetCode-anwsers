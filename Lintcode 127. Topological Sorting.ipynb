{
 "cells": [
  {
   "cell_type": "markdown",
   "metadata": {},
   "source": [
    "# Lintcode 127. Topological Sorting\n"
   ]
  },
  {
   "cell_type": "raw",
   "metadata": {},
   "source": [
    "Given an directed graph, a topological order of the graph nodes is defined as follow:\n",
    "\n",
    "For each directed edge A -> B in graph, A must before B in the order list.\n",
    "The first node in the order can be any node in the graph with no nodes direct to it.\n",
    "Find any topological order for the given graph.\n",
    "\n",
    "Example\n",
    "For graph as follow:\n",
    "\n",
    "\n",
    "\n",
    "The topological order can be:\n",
    "\n",
    "[0, 1, 2, 3, 4, 5]\n",
    "[0, 2, 3, 1, 5, 4]\n",
    "...\n",
    "Challenge\n",
    "Can you do it in both BFS and DFS?\n",
    "\n",
    "Clarification\n",
    "Learn more about representation of graphs\n",
    "\n",
    "Notice\n",
    "You can assume that there is at least one topological order in the graph."
   ]
  },
  {
   "cell_type": "code",
   "execution_count": 2,
   "metadata": {},
   "outputs": [
    {
     "data": {
      "text/plain": [
       "{3: 0, 2: 0}"
      ]
     },
     "execution_count": 2,
     "metadata": {},
     "output_type": "execute_result"
    }
   ],
   "source": [
    "\"\"\"\n",
    "Definition for a Directed graph node\n",
    "class DirectedGraphNode:\n",
    "    def __init__(self, x):\n",
    "        self.label = x\n",
    "        self.neighbors = []\n",
    "\"\"\"\n",
    "\n",
    "\n",
    "class Solution:\n",
    "    \"\"\"\n",
    "    @param: graph: A list of Directed graph node\n",
    "    @return: Any topological order for the given graph.\n",
    "    \"\"\"\n",
    "    def topSort(self, graph):\n",
    "        indegree = self.get_indegree(graph)\n",
    "        #bfs\n",
    "        res = []\n",
    "        \n",
    "        queue = collections.deque([])\n",
    "        for node in graph:\n",
    "            if indegree[node] == 0:\n",
    "                queue.append(node)\n",
    "        \n",
    "        while queue:\n",
    "            node = queue.popleft()\n",
    "            res.append(node)\n",
    "            for neighbor in node.neighbors:\n",
    "                indegree[neighbor] -= 1\n",
    "                if indegree[neighbor] == 0:\n",
    "                    queue.append(neighbor)\n",
    "        return res\n",
    "        \n",
    "    def get_indegree(self,graph):\n",
    "            \n",
    "        indegree = {node:0 for node in graph}\n",
    "        for node in graph:\n",
    "            for neighbor in node.neighbors:\n",
    "                indegree[neighbor] += 1\n",
    "        return indegree\n",
    "        "
   ]
  },
  {
   "cell_type": "code",
   "execution_count": 7,
   "metadata": {},
   "outputs": [
    {
     "data": {
      "text/plain": [
       "deque([1])"
      ]
     },
     "execution_count": 7,
     "metadata": {},
     "output_type": "execute_result"
    }
   ],
   "source": [
    "from collections import deque\n",
    "deque([1])"
   ]
  },
  {
   "cell_type": "code",
   "execution_count": 10,
   "metadata": {},
   "outputs": [],
   "source": [
    "s1 = set([2])\n",
    "s1.add(3)"
   ]
  },
  {
   "cell_type": "code",
   "execution_count": 11,
   "metadata": {},
   "outputs": [
    {
     "data": {
      "text/plain": [
       "{2, 3}"
      ]
     },
     "execution_count": 11,
     "metadata": {},
     "output_type": "execute_result"
    }
   ],
   "source": [
    "s1"
   ]
  },
  {
   "cell_type": "code",
   "execution_count": null,
   "metadata": {},
   "outputs": [],
   "source": []
  }
 ],
 "metadata": {
  "kernelspec": {
   "display_name": "Python 3",
   "language": "python",
   "name": "python3"
  },
  "language_info": {
   "codemirror_mode": {
    "name": "ipython",
    "version": 3
   },
   "file_extension": ".py",
   "mimetype": "text/x-python",
   "name": "python",
   "nbconvert_exporter": "python",
   "pygments_lexer": "ipython3",
   "version": "3.7.3"
  }
 },
 "nbformat": 4,
 "nbformat_minor": 2
}
