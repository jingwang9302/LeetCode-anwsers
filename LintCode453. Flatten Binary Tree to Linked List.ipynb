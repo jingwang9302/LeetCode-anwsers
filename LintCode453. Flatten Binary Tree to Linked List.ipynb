{
 "cells": [
  {
   "cell_type": "markdown",
   "metadata": {},
   "source": [
    "# 453. Flatten Binary Tree to Linked List\n"
   ]
  },
  {
   "cell_type": "raw",
   "metadata": {},
   "source": [
    "Example 1:\n",
    "\n",
    "Input:{1,2,5,3,4,#,6}\n",
    "Output：{1,#,2,#,3,#,4,#,5,#,6}\n",
    "Explanation：\n",
    "     1\n",
    "    / \\\n",
    "   2   5\n",
    "  / \\   \\\n",
    " 3   4   6\n",
    "\n",
    "1\n",
    "\\\n",
    " 2\n",
    "  \\\n",
    "   3\n",
    "    \\\n",
    "     4\n",
    "      \\\n",
    "       5\n",
    "        \\\n",
    "         6"
   ]
  },
  {
   "cell_type": "code",
   "execution_count": 1,
   "metadata": {},
   "outputs": [],
   "source": [
    "# using Devide and Coquer\n",
    "\"\"\"\n",
    "Definition of TreeNode:\n",
    "class TreeNode:\n",
    "    def __init__(self, val):\n",
    "        self.val = val\n",
    "        self.left, self.right = None, None\n",
    "\"\"\"\n",
    "\n",
    "class Solution:\n",
    "    \"\"\"\n",
    "    @param root: a TreeNode, the root of the binary tree\n",
    "    @return: nothing\n",
    "    \"\"\"\n",
    "    def flatten(self, root):\n",
    "        if root is None:\n",
    "            return None\n",
    "            \n",
    "        lastLeft = self.flatten(root.left)\n",
    "        lastRight = self.flatten(root.right)\n",
    "        \n",
    "        if lastLeft is not None:\n",
    "            lastLeft.right = root.right\n",
    "            root.right = root.left\n",
    "            root.left = None\n",
    "        \n",
    "        if lastRight is not None:\n",
    "            return lastRight\n",
    "        if lastLeft is not None:\n",
    "            return lastLeft\n",
    "        \n",
    "        return root"
   ]
  },
  {
   "cell_type": "code",
   "execution_count": null,
   "metadata": {},
   "outputs": [],
   "source": [
    "\"\"\"\n",
    "Definition of TreeNode:\n",
    "class TreeNode:\n",
    "    def __init__(self, val):\n",
    "        self.val = val\n",
    "        self.left, self.right = None, None\n",
    "\"\"\"\n",
    "\n",
    "class Solution:\n",
    "    \"\"\"\n",
    "    @param root: a TreeNode, the root of the binary tree\n",
    "    @return: nothing\n",
    "    \"\"\"\n",
    "    lastNode = None\n",
    "    def flatten(self, root):\n",
    "        if root is None:\n",
    "            return \n",
    "        if self.lastNode is not None:\n",
    "            self.lastNode.left = None\n",
    "            self.lastNode.right = root\n",
    "        \n",
    "        self.lastNode = root\n",
    "        right = root.right\n",
    "        self.flatten(root.left)\n",
    "        self.flatten(right)"
   ]
  }
 ],
 "metadata": {
  "kernelspec": {
   "display_name": "Python 3",
   "language": "python",
   "name": "python3"
  },
  "language_info": {
   "codemirror_mode": {
    "name": "ipython",
    "version": 3
   },
   "file_extension": ".py",
   "mimetype": "text/x-python",
   "name": "python",
   "nbconvert_exporter": "python",
   "pygments_lexer": "ipython3",
   "version": "3.7.3"
  }
 },
 "nbformat": 4,
 "nbformat_minor": 2
}
