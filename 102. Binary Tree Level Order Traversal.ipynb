{
 "cells": [
  {
   "cell_type": "markdown",
   "metadata": {},
   "source": [
    "# 102. Binary Tree Level Order Traversal"
   ]
  },
  {
   "cell_type": "raw",
   "metadata": {},
   "source": [
    "Given a binary tree, return the level order traversal of its nodes' values. (ie, from left to right, level by level).\n",
    "\n",
    "For example:\n",
    "Given binary tree [3,9,20,null,null,15,7],\n",
    "    3\n",
    "   / \\\n",
    "  9  20\n",
    "    /  \\\n",
    "   15   7\n",
    "return its level order traversal as:\n",
    "[\n",
    "  [3],\n",
    "  [9,20],\n",
    "  [15,7]\n",
    "]"
   ]
  },
  {
   "cell_type": "code",
   "execution_count": 7,
   "metadata": {},
   "outputs": [],
   "source": [
    "#bfs\n",
    "class TreeNode:\n",
    "    def __init__(self, x):\n",
    "        self.val = x\n",
    "        self.left = None\n",
    "        self.right = None\n",
    "def levelOrder(self, root: TreeNode) :\n",
    "    if not root:\n",
    "        return []\n",
    "    res = []\n",
    "    queue = [root]\n",
    "    while queue:\n",
    "        res.append([node.val for node in queue])\n",
    "        newQueue = []\n",
    "        for node in queue:\n",
    "            if node.left:\n",
    "                newQueue.append(node.left)\n",
    "            if node.right:\n",
    "                newQueue.append(node.right)\n",
    "        queue = newQueue\n",
    "    return res\n",
    "\n",
    "            "
   ]
  },
  {
   "cell_type": "code",
   "execution_count": 8,
   "metadata": {},
   "outputs": [],
   "source": [
    "#dfs\n",
    "class TreeNode:\n",
    "    def __init__(self, x):\n",
    "        self.val = x\n",
    "        self.left = None\n",
    "        self.right = None\n",
    "def levelOrder(self, root: TreeNode):\n",
    "    self.res = []\n",
    "    self.dfs(root,0)\n",
    "    return self.res\n",
    "def dfs(self,root,level):\n",
    "    if root == None:\n",
    "        return []\n",
    "    if len(self.res) <level + 1:\n",
    "        self.res.append([])\n",
    "    self.res[level].append(root.val)\n",
    "    self.dfs(root.left,level+1)\n",
    "    self.dfs(root.right,level+1)"
   ]
  },
  {
   "cell_type": "code",
   "execution_count": null,
   "metadata": {},
   "outputs": [],
   "source": []
  }
 ],
 "metadata": {
  "kernelspec": {
   "display_name": "Python 3",
   "language": "python",
   "name": "python3"
  },
  "language_info": {
   "codemirror_mode": {
    "name": "ipython",
    "version": 3
   },
   "file_extension": ".py",
   "mimetype": "text/x-python",
   "name": "python",
   "nbconvert_exporter": "python",
   "pygments_lexer": "ipython3",
   "version": "3.7.3"
  }
 },
 "nbformat": 4,
 "nbformat_minor": 2
}
