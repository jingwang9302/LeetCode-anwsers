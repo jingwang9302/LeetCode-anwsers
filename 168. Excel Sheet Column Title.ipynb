{
 "cells": [
  {
   "cell_type": "markdown",
   "metadata": {},
   "source": [
    "# 168. Excel Sheet Column Title\n"
   ]
  },
  {
   "cell_type": "raw",
   "metadata": {},
   "source": [
    "Given a positive integer, return its corresponding column title as appear in an Excel sheet.\n",
    "\n",
    "For example:\n",
    "\n",
    "    1 -> A\n",
    "    2 -> B\n",
    "    3 -> C\n",
    "    ...\n",
    "    26 -> Z\n",
    "    27 -> AA\n",
    "    28 -> AB \n",
    "    ...\n",
    "Example 1:\n",
    "\n",
    "Input: 1\n",
    "Output: \"A\"\n",
    "Example 2:\n",
    "\n",
    "Input: 28\n",
    "Output: \"AB\"\n",
    "Example 3:\n",
    "\n",
    "Input: 701\n",
    "Output: \"ZY\""
   ]
  },
  {
   "cell_type": "code",
   "execution_count": null,
   "metadata": {},
   "outputs": [],
   "source": [
    "    def convertToTitle(self, n: int) -> str:\n",
    "        letter = [chr(x) for x in range(ord('A'), ord('Z')+1)]\n",
    "        result = []\n",
    "        while n > 0:\n",
    "            result.append(letter[(n-1)%26])\n",
    "            n = (n-1) // 26\n",
    "        result.reverse()\n",
    "        return ''.join(result)"
   ]
  }
 ],
 "metadata": {
  "kernelspec": {
   "display_name": "Python 3",
   "language": "python",
   "name": "python3"
  },
  "language_info": {
   "codemirror_mode": {
    "name": "ipython",
    "version": 3
   },
   "file_extension": ".py",
   "mimetype": "text/x-python",
   "name": "python",
   "nbconvert_exporter": "python",
   "pygments_lexer": "ipython3",
   "version": "3.7.3"
  }
 },
 "nbformat": 4,
 "nbformat_minor": 2
}
