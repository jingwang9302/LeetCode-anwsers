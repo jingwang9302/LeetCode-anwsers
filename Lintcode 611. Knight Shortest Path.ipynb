{
 "cells": [
  {
   "cell_type": "markdown",
   "metadata": {},
   "source": [
    "# Lintcode 611. Knight Shortest Path\n"
   ]
  },
  {
   "cell_type": "raw",
   "metadata": {},
   "source": [
    "Given a knight in a chessboard (a binary matrix with 0 as empty and 1 as barrier) with a source position, find the shortest path to a destination position, return the length of the route.\n",
    "Return -1 if destination cannot be reached.\n",
    "\n",
    "Example\n",
    "Example 1:\n",
    "\n",
    "Input:\n",
    "[[0,0,0],\n",
    " [0,0,0],\n",
    " [0,0,0]]\n",
    "source = [2, 0] destination = [2, 2] \n",
    "Output: 2\n",
    "Explanation:\n",
    "[2,0]->[0,1]->[2,2]\n",
    "Example 2:\n",
    "\n",
    "Input:\n",
    "[[0,1,0],\n",
    " [0,0,1],\n",
    " [0,0,0]]\n",
    "source = [2, 0] destination = [2, 2] \n",
    "Output:-1"
   ]
  },
  {
   "cell_type": "code",
   "execution_count": null,
   "metadata": {},
   "outputs": [],
   "source": [
    "\"\"\"\n",
    "Definition for a point.\n",
    "class Point:\n",
    "    def __init__(self, a=0, b=0):\n",
    "        self.x = a\n",
    "        self.y = b\n",
    "\"\"\"\n",
    "\n",
    "class Solution:\n",
    "    \"\"\"\n",
    "    @param grid: a chessboard included 0 (false) and 1 (true)\n",
    "    @param source: a point\n",
    "    @param destination: a point\n",
    "    @return: the shortest path \n",
    "    \"\"\"\n",
    "    def shortestPath(self, grid, source, destination):\n",
    "        distance = {(source.x,source.y): 0}\n",
    "        queue = [(source.x,source.y)]\n",
    "        \n",
    "        while queue:\n",
    "            x,y = queue.pop(0)\n",
    "            if (x,y) == (destination.x,destination.y):\n",
    "                return distance[(x,y)]\n",
    "            for dx,dy in [(-1,2),(1,2),(2,1),(2,-1),(-1,-2),(1,-2),(-2,1),(-2,-1)]:\n",
    "                next_x = x+dx\n",
    "                next_y = y+dy\n",
    "                if self.is_valid(next_x,next_y,grid) and (next_x,next_y) not in distance:\n",
    "                    \n",
    "                    distance[(next_x,next_y)] = distance[(x,y)] + 1\n",
    "                    queue.append((next_x,next_y))\n",
    "            \n",
    "        return -1\n",
    "            \n",
    "    def is_valid(self, x, y, grid):\n",
    "        n, m = len(grid), len(grid[0])\n",
    "    \n",
    "        if x < 0 or x >= n or y < 0 or y >= m:\n",
    "            return False\n",
    "                \n",
    "        return not grid[x][y]\n",
    "            \n",
    "            \n",
    "            \n",
    "\n"
   ]
  }
 ],
 "metadata": {
  "kernelspec": {
   "display_name": "Python 3",
   "language": "python",
   "name": "python3"
  },
  "language_info": {
   "codemirror_mode": {
    "name": "ipython",
    "version": 3
   },
   "file_extension": ".py",
   "mimetype": "text/x-python",
   "name": "python",
   "nbconvert_exporter": "python",
   "pygments_lexer": "ipython3",
   "version": "3.7.3"
  }
 },
 "nbformat": 4,
 "nbformat_minor": 2
}
