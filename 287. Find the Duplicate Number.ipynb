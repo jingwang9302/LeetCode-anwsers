{
 "cells": [
  {
   "cell_type": "markdown",
   "metadata": {},
   "source": [
    "# 287. Find the Duplicate Number"
   ]
  },
  {
   "cell_type": "raw",
   "metadata": {},
   "source": [
    "Given an array nums containing n + 1 integers where each integer is between 1 and n (inclusive), prove that at least one duplicate number must exist. Assume that there is only one duplicate number, find the duplicate one.\n",
    "\n",
    "Example 1:\n",
    "\n",
    "Input: [1,3,4,2,2]\n",
    "Output: 2\n",
    "Example 2:\n",
    "\n",
    "Input: [3,1,3,4,2]\n",
    "Output: 3"
   ]
  },
  {
   "cell_type": "code",
   "execution_count": 2,
   "metadata": {},
   "outputs": [],
   "source": [
    "class Solution:\n",
    "    def findDuplicate(self, nums):\n",
    "        if not nums:\n",
    "            return -1\n",
    "        \n",
    "        tort = nums[0]\n",
    "        hare = nums[0]\n",
    "        while True:\n",
    "            tort = nums[tort]\n",
    "            hare = nums[nums[hare]]\n",
    "            if tort == hare:\n",
    "                break\n",
    "       \n",
    "        p1 = nums[0]\n",
    "        p2 = tort\n",
    "        \n",
    "        while p1!=p2:\n",
    "            p1 = nums[p1]\n",
    "            p2 = nums[p2]\n",
    "        return p1"
   ]
  },
  {
   "cell_type": "code",
   "execution_count": 3,
   "metadata": {},
   "outputs": [],
   "source": [
    "class Solution:\n",
    "    def findDuplicate(self, nums):\n",
    "        if not nums:\n",
    "            return -1\n",
    "        di = {}\n",
    "        for num in nums:\n",
    "            if num not in di:\n",
    "                di[num] = 1\n",
    "            else: \n",
    "                di[num] += 1\n",
    "        for n in di:\n",
    "            if di[n] != 1:\n",
    "                return n"
   ]
  },
  {
   "cell_type": "code",
   "execution_count": null,
   "metadata": {},
   "outputs": [],
   "source": []
  }
 ],
 "metadata": {
  "kernelspec": {
   "display_name": "Python 3",
   "language": "python",
   "name": "python3"
  },
  "language_info": {
   "codemirror_mode": {
    "name": "ipython",
    "version": 3
   },
   "file_extension": ".py",
   "mimetype": "text/x-python",
   "name": "python",
   "nbconvert_exporter": "python",
   "pygments_lexer": "ipython3",
   "version": "3.7.3"
  }
 },
 "nbformat": 4,
 "nbformat_minor": 2
}
