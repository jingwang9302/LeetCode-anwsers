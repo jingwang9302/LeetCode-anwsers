{
 "cells": [
  {
   "cell_type": "markdown",
   "metadata": {},
   "source": [
    "# 460. Find K Closest Elements\n"
   ]
  },
  {
   "cell_type": "raw",
   "metadata": {},
   "source": [
    "Given target, a non-negative integer k and an integer array A sorted in ascending order, find the k closest numbers to target in A, sorted in ascending order by the difference between the number and target. Otherwise, sorted in ascending order by number if the difference is same.\n",
    "\n",
    "Example\n",
    "Example 1:\n",
    "\n",
    "Input: A = [1, 2, 3], target = 2, k = 3\n",
    "Output: [2, 1, 3]\n",
    "Example 2:\n",
    "\n",
    "Input: A = [1, 4, 6, 8], target = 3, k = 3\n",
    "Output: [4, 1, 6]"
   ]
  },
  {
   "cell_type": "code",
   "execution_count": null,
   "metadata": {},
   "outputs": [],
   "source": [
    "class Solution:\n",
    "    \"\"\"\n",
    "    @param A: an integer array\n",
    "    @param target: An integer\n",
    "    @param k: An integer\n",
    "    @return: an integer array\n",
    "    \"\"\"\n",
    "    def kClosestNumbers(self, A, target, k):\n",
    "        # write your code here\n",
    "        right = self.find_upper(A,target)\n",
    "        left = right - 1\n",
    "       \n",
    "        result = []\n",
    "        for i in range(k):   \n",
    "            if self.is_left_closer(A,target,left,right):\n",
    "                result.append(A[left])\n",
    "                left -= 1\n",
    "            else:\n",
    "                result.append(A[right])\n",
    "                right += 1\n",
    "        return result\n",
    "                \n",
    "       \n",
    "    def find_upper(self,A,target):\n",
    "        start = 0\n",
    "        end = len(A)-1\n",
    "        while start + 1 < end:\n",
    "            mid = (start + end) // 2\n",
    "            if A[mid] < target:\n",
    "                start = mid\n",
    "            else:\n",
    "                end = mid\n",
    "        if A[start] >= target:\n",
    "            return start\n",
    "        if A[end] >= target:\n",
    "            return end\n",
    "        return len(A)\n",
    "    \n",
    "    def is_left_closer(self,A,target,left,right):\n",
    "        if left < 0:\n",
    "            return False\n",
    "        if right >= len(A):\n",
    "            return True\n",
    "        return target - A[left] <= A[right] - target\n",
    "    \n",
    "    \n",
    "    \n",
    "    "
   ]
  }
 ],
 "metadata": {
  "kernelspec": {
   "display_name": "Python 3",
   "language": "python",
   "name": "python3"
  },
  "language_info": {
   "codemirror_mode": {
    "name": "ipython",
    "version": 3
   },
   "file_extension": ".py",
   "mimetype": "text/x-python",
   "name": "python",
   "nbconvert_exporter": "python",
   "pygments_lexer": "ipython3",
   "version": "3.7.3"
  }
 },
 "nbformat": 4,
 "nbformat_minor": 2
}
