{
 "cells": [
  {
   "cell_type": "raw",
   "metadata": {},
   "source": [
    "Given a string, find the length of the longest substring T that contains at most k distinct characters.\n",
    "\n",
    "Example 1:\n",
    "\n",
    "Input: s = \"eceba\", k = 2\n",
    "Output: 3\n",
    "Explanation: T is \"ece\" which its length is 3.\n",
    "Example 2:\n",
    "\n",
    "Input: s = \"aa\", k = 1\n",
    "Output: 2\n",
    "Explanation: T is \"aa\" which its length is 2.\n"
   ]
  },
  {
   "cell_type": "code",
   "execution_count": null,
   "metadata": {},
   "outputs": [],
   "source": []
  },
  {
   "cell_type": "code",
   "execution_count": null,
   "metadata": {},
   "outputs": [],
   "source": [
    "class Solution:\n",
    "    def lengthOfLongestSubstringKDistinct(self, s: str, k: int) -> int:\n",
    "        # case 1: len(s) < k: return len(s)\n",
    "        # case 2: len(s) >= k:\n",
    "        #   right add to hash map\n",
    "        #   case 2.1: len(di) < k: -> right += 1\n",
    "        #   case 2.2: len(di) == k: -> left = del_index + 1\n",
    "        #   track max_len\n",
    "\n",
    "        if k == 0 or s == '': return 0\n",
    "        if len(s) < k+1:\n",
    "            return len(s)\n",
    "        left,right = 0,0\n",
    "        di = {}\n",
    "        max_len = k\n",
    "        while right < len(s):\n",
    "            di[s[right]] = right\n",
    "            if len(di) < k+1:\n",
    "                right += 1\n",
    "            \n",
    "            if len(di) == k+1:\n",
    "                del_index = min(di.values())\n",
    "                del di[s[del_index]]\n",
    "                left = del_index + 1\n",
    "            \n",
    "            max_len = max(max_len, right -left)\n",
    "        return max_len\n"
   ]
  }
 ],
 "metadata": {
  "kernelspec": {
   "display_name": "Python 3",
   "language": "python",
   "name": "python3"
  },
  "language_info": {
   "codemirror_mode": {
    "name": "ipython",
    "version": 3
   },
   "file_extension": ".py",
   "mimetype": "text/x-python",
   "name": "python",
   "nbconvert_exporter": "python",
   "pygments_lexer": "ipython3",
   "version": "3.7.4"
  }
 },
 "nbformat": 4,
 "nbformat_minor": 2
}
