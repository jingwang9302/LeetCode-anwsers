{
 "cells": [
  {
   "cell_type": "markdown",
   "metadata": {},
   "source": [
    "# 34. Find First and Last Position of Element in Sorted Array"
   ]
  },
  {
   "cell_type": "raw",
   "metadata": {},
   "source": [
    "Given an array of integers nums sorted in ascending order, find the starting and ending position of a given target value.\n",
    "\n",
    "Your algorithm's runtime complexity must be in the order of O(log n).\n",
    "\n",
    "If the target is not found in the array, return [-1, -1].\n",
    "\n",
    "Example 1:\n",
    "\n",
    "Input: nums = [5,7,7,8,8,10], target = 8\n",
    "Output: [3,4]\n",
    "Example 2:\n",
    "\n",
    "Input: nums = [5,7,7,8,8,10], target = 6\n",
    "Output: [-1,-1]"
   ]
  },
  {
   "cell_type": "code",
   "execution_count": null,
   "metadata": {},
   "outputs": [],
   "source": [
    "    def searchRange(self, nums: List[int], target: int) -> List[int]:\n",
    "        if not nums:\n",
    "            return [-1,-1]\n",
    "        #find head\n",
    "        start = 0\n",
    "        end = len(nums)-1\n",
    "        while start + 1 < end:\n",
    "            mid = (start + end) // 2\n",
    "            if nums[mid] >= target:\n",
    "                end = mid\n",
    "            else:\n",
    "                start = mid\n",
    "        if nums[start] == target:\n",
    "            head = start\n",
    "        elif nums[end] == target:\n",
    "            head = end\n",
    "        else:\n",
    "            head = -1\n",
    "        \n",
    "        #find end\n",
    "        start = 0\n",
    "        end = len(nums) - 1\n",
    "        while start + 1 < end:\n",
    "            mid = (start + end) // 2\n",
    "            if nums[mid] <= target:\n",
    "                start = mid\n",
    "            else:\n",
    "                end = mid\n",
    "        if nums[end] == target:\n",
    "            tail = end\n",
    "        elif nums[start] == target:\n",
    "            tail = start\n",
    "        else:\n",
    "            tail = -1\n",
    "        \n",
    "        return [head,tail]"
   ]
  }
 ],
 "metadata": {
  "kernelspec": {
   "display_name": "Python 3",
   "language": "python",
   "name": "python3"
  },
  "language_info": {
   "codemirror_mode": {
    "name": "ipython",
    "version": 3
   },
   "file_extension": ".py",
   "mimetype": "text/x-python",
   "name": "python",
   "nbconvert_exporter": "python",
   "pygments_lexer": "ipython3",
   "version": "3.7.3"
  }
 },
 "nbformat": 4,
 "nbformat_minor": 2
}
