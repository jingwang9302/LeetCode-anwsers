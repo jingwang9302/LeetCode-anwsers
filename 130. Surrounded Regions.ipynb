{
 "cells": [
  {
   "cell_type": "markdown",
   "metadata": {},
   "source": [
    "# 130. Surrounded Regions"
   ]
  },
  {
   "cell_type": "raw",
   "metadata": {},
   "source": [
    "Given a 2D board containing 'X' and 'O' (the letter O), capture all regions surrounded by 'X'.\n",
    "\n",
    "A region is captured by flipping all 'O's into 'X's in that surrounded region.\n",
    "\n",
    "Example:\n",
    "\n",
    "X X X X\n",
    "X O O X\n",
    "X X O X\n",
    "X O X X\n",
    "After running your function, the board should be:\n",
    "\n",
    "X X X X\n",
    "X X X X\n",
    "X X X X\n",
    "X O X X\n",
    "Explanation:\n",
    "\n",
    "Surrounded regions shouldn’t be on the border, which means that any 'O' on the border of the board are not flipped to 'X'. Any 'O' that is not on the border and it is not connected to an 'O' on the border will be flipped to 'X'. Two cells are connected if they are adjacent cells connected horizontally or vertically."
   ]
  },
  {
   "cell_type": "code",
   "execution_count": null,
   "metadata": {},
   "outputs": [],
   "source": [
    "from collections import deque\n",
    "class Solution:\n",
    "    def solve(self, board: List[List[str]]) -> None:\n",
    "        \"\"\"\n",
    "        Do not return anything, modify board in-place instead.\n",
    "        \"\"\"\n",
    "        if not board or not board[0]:\n",
    "            return []\n",
    "        r = len(board)\n",
    "        c = len(board[0])\n",
    "        for i in range(r):\n",
    "            if board[i][0] == 'O':\n",
    "                self.bfs(i,0,board)\n",
    "            if board[i][c-1] == 'O':\n",
    "                self.bfs(i,c-1,board)\n",
    "        for j in range(c):\n",
    "            if board[0][j] == 'O':\n",
    "                self.bfs(0,j,board)\n",
    "            if board[r-1][j] == 'O':\n",
    "                self.bfs(r-1,j,board)\n",
    "        \n",
    "        for i in range(r):\n",
    "            for j in range(c):\n",
    "                if board[i][j] == 'O':\n",
    "                    board[i][j] = 'X'\n",
    "                elif board[i][j] == '#':\n",
    "                    board[i][j] = 'O'\n",
    "        \n",
    "    def bfs(self,row,col,board):\n",
    "        r = len(board)\n",
    "        c = len(board[0])\n",
    "        queue = deque([(row,col)])\n",
    "        board[row][col] = '#'\n",
    "        direction = [(0,1),(0,-1),(1,0),(-1,0)]\n",
    "        while queue:\n",
    "            x,y = queue.popleft()\n",
    "            for delta_x,delta_y in direction:\n",
    "                new_x = x + delta_x\n",
    "                new_y = y + delta_y\n",
    "                if new_x<0 or new_x >= r or new_y < 0 or new_y >= c:\n",
    "                    continue\n",
    "                if board[new_x][new_y] != 'O':\n",
    "                    continue\n",
    "                board[new_x][new_y] = \"#\"\n",
    "                queue.append((new_x,new_y))\n",
    "\n",
    "            \n",
    "                "
   ]
  }
 ],
 "metadata": {
  "kernelspec": {
   "display_name": "Python 3",
   "language": "python",
   "name": "python3"
  },
  "language_info": {
   "codemirror_mode": {
    "name": "ipython",
    "version": 3
   },
   "file_extension": ".py",
   "mimetype": "text/x-python",
   "name": "python",
   "nbconvert_exporter": "python",
   "pygments_lexer": "ipython3",
   "version": "3.7.3"
  }
 },
 "nbformat": 4,
 "nbformat_minor": 2
}
