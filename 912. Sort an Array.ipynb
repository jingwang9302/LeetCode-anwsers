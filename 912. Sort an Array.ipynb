{
 "cells": [
  {
   "cell_type": "markdown",
   "metadata": {},
   "source": [
    "# 912. Sort an Array"
   ]
  },
  {
   "cell_type": "raw",
   "metadata": {},
   "source": [
    "Input: nums = [5,2,3,1]\n",
    "Output: [1,2,3,5]"
   ]
  },
  {
   "cell_type": "code",
   "execution_count": null,
   "metadata": {},
   "outputs": [],
   "source": [
    "class Solution:\n",
    "    def sortArray(self, A: List[int]) -> List[int]:\n",
    "        self.quickSort(A,0,len(A)-1)\n",
    "        return A\n",
    "    \n",
    "    def quickSort(self,A,start,end):\n",
    "        if start >= end:\n",
    "            return\n",
    "        left = start\n",
    "        right = end\n",
    "        pivot = A[(left+right)//2]\n",
    "        \n",
    "        while left <= right:\n",
    "            while left <= right and A[left] < pivot:\n",
    "                left += 1\n",
    "            while left <= right and A[right] >pivot:\n",
    "                right -= 1\n",
    "                \n",
    "            if left <= right:\n",
    "                A[left],A[right] = A[right],A[left]\n",
    "                \n",
    "                left += 1\n",
    "                right -= 1\n",
    "                \n",
    "        self.quickSort(A,start,right)\n",
    "        self.quickSort(A,left,end)"
   ]
  }
 ],
 "metadata": {
  "kernelspec": {
   "display_name": "Python 3",
   "language": "python",
   "name": "python3"
  },
  "language_info": {
   "codemirror_mode": {
    "name": "ipython",
    "version": 3
   },
   "file_extension": ".py",
   "mimetype": "text/x-python",
   "name": "python",
   "nbconvert_exporter": "python",
   "pygments_lexer": "ipython3",
   "version": "3.7.4"
  }
 },
 "nbformat": 4,
 "nbformat_minor": 2
}
