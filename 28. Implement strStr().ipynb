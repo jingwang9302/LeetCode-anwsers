{
 "cells": [
  {
   "cell_type": "markdown",
   "metadata": {},
   "source": [
    "# 28. Implement strStr()"
   ]
  },
  {
   "cell_type": "markdown",
   "metadata": {},
   "source": [
    "Implement strStr().\n",
    "\n",
    "Return the index of the first occurrence of needle in haystack, or -1 if needle is not part of haystack.\n",
    "\n",
    "Example 1:\n",
    "\n",
    "Input: haystack = \"hello\", needle = \"ll\"\n",
    "Output: 2\n",
    "Example 2:\n",
    "\n",
    "Input: haystack = \"aaaaa\", needle = \"bba\"\n",
    "Output: -1"
   ]
  },
  {
   "cell_type": "code",
   "execution_count": 1,
   "metadata": {},
   "outputs": [],
   "source": [
    "class Solution:\n",
    "    def strStr(self, haystack: str, needle: str) -> int:\n",
    "        \n",
    "        if len(haystack) < len(needle):\n",
    "            \n",
    "            return -1\n",
    "        \n",
    "        elif len(haystack) == len(needle):\n",
    "            \n",
    "            if haystack == needle:\n",
    "                return 0\n",
    "            else:\n",
    "                return -1\n",
    "            \n",
    "        else:\n",
    "            \n",
    "            i = 0\n",
    "            needleLen = len(needle)\n",
    "            \n",
    "            while i < len(haystack) - needleLen + 1:\n",
    "                \n",
    "                if haystack[i : i + needleLen] == needle:\n",
    "                    return i\n",
    "                else:\n",
    "                    i += 1\n",
    "            \n",
    "            return -1"
   ]
  },
  {
   "cell_type": "markdown",
   "metadata": {},
   "source": [
    "Method: create a bloch contains number of len(needle)'s elements"
   ]
  }
 ],
 "metadata": {
  "kernelspec": {
   "display_name": "Python 3",
   "language": "python",
   "name": "python3"
  },
  "language_info": {
   "codemirror_mode": {
    "name": "ipython",
    "version": 3
   },
   "file_extension": ".py",
   "mimetype": "text/x-python",
   "name": "python",
   "nbconvert_exporter": "python",
   "pygments_lexer": "ipython3",
   "version": "3.7.3"
  }
 },
 "nbformat": 4,
 "nbformat_minor": 2
}
