{
 "cells": [
  {
   "cell_type": "markdown",
   "metadata": {},
   "source": [
    "# 33. Search in Rotated Sorted Array"
   ]
  },
  {
   "cell_type": "raw",
   "metadata": {},
   "source": [
    "Suppose an array sorted in ascending order is rotated at some pivot unknown to you beforehand.\n",
    "\n",
    "(i.e., [0,1,2,4,5,6,7] might become [4,5,6,7,0,1,2]).\n",
    "\n",
    "You are given a target value to search. If found in the array return its index, otherwise return -1.\n",
    "\n",
    "You may assume no duplicate exists in the array.\n",
    "\n",
    "Your algorithm's runtime complexity must be in the order of O(log n).\n",
    "\n",
    "Example 1:\n",
    "\n",
    "Input: nums = [4,5,6,7,0,1,2], target = 0\n",
    "Output: 4\n",
    "Example 2:\n",
    "\n",
    "Input: nums = [4,5,6,7,0,1,2], target = 3\n",
    "Output: -1"
   ]
  },
  {
   "cell_type": "code",
   "execution_count": null,
   "metadata": {},
   "outputs": [],
   "source": [
    "    def search(self, nums: List[int], target: int) -> int:\n",
    "        if not nums:\n",
    "            return -1\n",
    "        \n",
    "        start, end = 0, len(nums)-1\n",
    "        \n",
    "        while start + 1 < end:\n",
    "            mid = (start + end) // 2\n",
    "            if nums[mid] > nums[start]:\n",
    "                if nums[start] <= target <= nums[mid]:\n",
    "                    end = mid\n",
    "                else:\n",
    "                    start = mid\n",
    "            else:\n",
    "                if nums[mid] <= target <= nums[end]:\n",
    "                    start = mid\n",
    "                else:\n",
    "                    end = mid\n",
    "        if nums[start] == target:\n",
    "            return start\n",
    "        elif nums[end] == target:\n",
    "            return end\n",
    "        else:\n",
    "            return -1"
   ]
  }
 ],
 "metadata": {
  "kernelspec": {
   "display_name": "Python 3",
   "language": "python",
   "name": "python3"
  },
  "language_info": {
   "codemirror_mode": {
    "name": "ipython",
    "version": 3
   },
   "file_extension": ".py",
   "mimetype": "text/x-python",
   "name": "python",
   "nbconvert_exporter": "python",
   "pygments_lexer": "ipython3",
   "version": "3.7.3"
  }
 },
 "nbformat": 4,
 "nbformat_minor": 2
}
