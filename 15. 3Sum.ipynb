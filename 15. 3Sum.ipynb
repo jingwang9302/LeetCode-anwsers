{
 "cells": [
  {
   "cell_type": "markdown",
   "metadata": {},
   "source": [
    "# 15. 3Sum"
   ]
  },
  {
   "cell_type": "raw",
   "metadata": {},
   "source": [
    "Given an array nums of n integers, are there elements a, b, c in nums such that a + b + c = 0? Find all unique triplets in the array which gives the sum of zero.\n",
    "\n",
    "Note:\n",
    "\n",
    "The solution set must not contain duplicate triplets.\n",
    "\n",
    "Example:\n",
    "\n",
    "Given array nums = [-1, 0, 1, 2, -1, -4],\n",
    "\n",
    "A solution set is:\n",
    "[\n",
    "  [-1, 0, 1],\n",
    "  [-1, -1, 2]\n",
    "]"
   ]
  },
  {
   "cell_type": "code",
   "execution_count": null,
   "metadata": {},
   "outputs": [],
   "source": [
    "    def threeSum(self, nums: List[int]) -> List[List[int]]:\n",
    "        n = len(nums)\n",
    "        res = []\n",
    "        nums.sort()\n",
    "        for i in range(n-2):\n",
    "            if nums[i] + nums[i+1] + nums[i+2] > 0:\n",
    "                break\n",
    "            if nums[i] + nums[n-1] + nums[n-2] < 0:\n",
    "                continue\n",
    "            if i>0 and nums[i] == nums[i-1]:\n",
    "                continue\n",
    "            l,r = i+1,n-1\n",
    "            while l<r:\n",
    "                tmp = nums[i]+ nums[r]+ nums[l]\n",
    "                if tmp == 0:\n",
    "                    res.append([nums[i],nums[l],nums[r]])\n",
    "                    while l+1<r and nums[l] == nums[l+1]:\n",
    "                        l+=1\n",
    "                    while r-1>l and nums[r] == nums[r-1]:\n",
    "                        r -= 1\n",
    "                    l+=1\n",
    "                    r-=1\n",
    "                elif tmp<0:\n",
    "                    l+=1\n",
    "                else:\n",
    "                    r-=1        \n",
    "        return res\n",
    "            \n",
    "                        "
   ]
  }
 ],
 "metadata": {
  "kernelspec": {
   "display_name": "Python 3",
   "language": "python",
   "name": "python3"
  },
  "language_info": {
   "codemirror_mode": {
    "name": "ipython",
    "version": 3
   },
   "file_extension": ".py",
   "mimetype": "text/x-python",
   "name": "python",
   "nbconvert_exporter": "python",
   "pygments_lexer": "ipython3",
   "version": "3.7.3"
  }
 },
 "nbformat": 4,
 "nbformat_minor": 2
}
