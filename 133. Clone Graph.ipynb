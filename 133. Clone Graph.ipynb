{
 "cells": [
  {
   "cell_type": "markdown",
   "metadata": {},
   "source": [
    "# 133. Clone Graph\n"
   ]
  },
  {
   "cell_type": "raw",
   "metadata": {},
   "source": [
    "Given a reference of a node in a connected undirected graph, return a deep copy (clone) of the graph. Each node in the graph contains a val (int) and a list (List[Node]) of its neighbors.\n",
    "\n",
    " \n",
    "\n",
    "Example:\n",
    "\n",
    "\n",
    "\n",
    "Input:\n",
    "{\"$id\":\"1\",\"neighbors\":[{\"$id\":\"2\",\"neighbors\":[{\"$ref\":\"1\"},{\"$id\":\"3\",\"neighbors\":[{\"$ref\":\"2\"},{\"$id\":\"4\",\"neighbors\":[{\"$ref\":\"3\"},{\"$ref\":\"1\"}],\"val\":4}],\"val\":3}],\"val\":2},{\"$ref\":\"4\"}],\"val\":1}\n",
    "\n",
    "Explanation:\n",
    "Node 1's value is 1, and it has two neighbors: Node 2 and 4.\n",
    "Node 2's value is 2, and it has two neighbors: Node 1 and 3.\n",
    "Node 3's value is 3, and it has two neighbors: Node 2 and 4.\n",
    "Node 4's value is 4, and it has two neighbors: Node 1 and 3."
   ]
  },
  {
   "cell_type": "code",
   "execution_count": null,
   "metadata": {},
   "outputs": [],
   "source": [
    "\"\"\"\n",
    "# Definition for a Node.\n",
    "class Node:\n",
    "    def __init__(self, val, neighbors):\n",
    "        self.val = val\n",
    "        self.neighbors = neighbors\n",
    "\"\"\"\n",
    "from collections import deque\n",
    "class Solution:\n",
    "    def cloneGraph(self, node: 'Node') -> 'Node':\n",
    "        root = node\n",
    "        if node is None:\n",
    "            return node\n",
    "        #copy nodes\n",
    "        nodes = self.getNodes(node)\n",
    "        mapping = {}\n",
    "        for node in nodes:\n",
    "            mapping[node] = Node(node.val,[])\n",
    "        #copy neighbors\n",
    "        for node in nodes:\n",
    "            new_node = mapping[node]\n",
    "            for neighbor in node.neighbors:\n",
    "                new_neighbor = mapping[neighbor]\n",
    "                new_node.neighbors.append(new_neighbor)\n",
    "        return mapping[root]\n",
    "        \n",
    "    def getNodes(self,node):\n",
    "        queue = deque([node])\n",
    "        visited = set([node])\n",
    "        while queue:\n",
    "            head = queue.popleft()\n",
    "            for neighbor in head.neighbors:\n",
    "                if neighbor not in visited:\n",
    "                    queue.append(neighbor)\n",
    "                    visited.add(neighbor)\n",
    "        return visited"
   ]
  },
  {
   "cell_type": "code",
   "execution_count": null,
   "metadata": {},
   "outputs": [],
   "source": [
    "def cloneGraph(self,node):\n",
    "    if not node:\n",
    "        return\n",
    "    nodeCopy = Node(node.val,[])\n",
    "    dic = {node:nodeCopy}\n",
    "    queue = deque([node])\n",
    "    while queue:\n",
    "        node = queue.popleft()\n",
    "        for neighbor in node.neighbors:\n",
    "            if neighbor not in dic:\n",
    "                neighborCopy = Node(neighbor.val,[])\n",
    "                dic[neighbor] = neighborCopy\n",
    "                dic[node].neighbors.append(neighborCopy)\n",
    "                queue.append(neighbor)\n",
    "            else:\n",
    "                dic[node].neighbors.append(dic[neighbor])\n",
    "    return nodeCopy"
   ]
  }
 ],
 "metadata": {
  "kernelspec": {
   "display_name": "Python 3",
   "language": "python",
   "name": "python3"
  },
  "language_info": {
   "codemirror_mode": {
    "name": "ipython",
    "version": 3
   },
   "file_extension": ".py",
   "mimetype": "text/x-python",
   "name": "python",
   "nbconvert_exporter": "python",
   "pygments_lexer": "ipython3",
   "version": "3.7.3"
  }
 },
 "nbformat": 4,
 "nbformat_minor": 2
}
