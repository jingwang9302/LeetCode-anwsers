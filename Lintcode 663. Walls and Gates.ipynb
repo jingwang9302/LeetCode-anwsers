{
 "cells": [
  {
   "cell_type": "markdown",
   "metadata": {},
   "source": [
    "# 663. Walls and Gates"
   ]
  },
  {
   "cell_type": "raw",
   "metadata": {},
   "source": [
    "You are given a m x n 2D grid initialized with these three possible values.\n",
    "\n",
    "-1 - A wall or an obstacle.\n",
    "0 - A gate.\n",
    "INF - Infinity means an empty room. We use the value 2^31 - 1 = 2147483647 to represent INF as you may assume that the distance to a gate is less than 2147483647.\n",
    "Fill each empty room with the distance to its nearest gate. If it is impossible to reach a ROOM, that room should remain filled with INF\n",
    "\n",
    "Have you met this question in a real interview?  \n",
    "Example\n",
    "Example1\n",
    "\n",
    "Input:\n",
    "[[2147483647,-1,0,2147483647],[2147483647,2147483647,2147483647,-1],[2147483647,-1,2147483647,-1],[0,-1,2147483647,2147483647]]\n",
    "Output:\n",
    "[[3,-1,0,1],[2,2,1,-1],[1,-1,2,-1],[0,-1,3,4]]\n",
    "\n",
    "Explanation:\n",
    "the 2D grid is:\n",
    "INF  -1  0  INF\n",
    "INF INF INF  -1\n",
    "INF  -1 INF  -1\n",
    "  0  -1 INF INF\n",
    "the answer is:\n",
    "  3  -1   0   1\n",
    "  2   2   1  -1\n",
    "  1  -1   2  -1\n",
    "  0  -1   3   4"
   ]
  },
  {
   "cell_type": "code",
   "execution_count": null,
   "metadata": {},
   "outputs": [],
   "source": [
    "from collections import deque\n",
    "class Solution:\n",
    "    \"\"\"\n",
    "    @param rooms: m x n 2D grid\n",
    "    @return: nothing\n",
    "    \"\"\"\n",
    "    \n",
    "    def wallsAndGates(self, rooms):\n",
    "        \n",
    "        if not rooms:\n",
    "            return []\n",
    "            \n",
    "        r = len(rooms)\n",
    "        c = len(rooms[0])\n",
    "        \n",
    "        for i in range(r):\n",
    "            for j in range(c):\n",
    "                if rooms[i][j] == 0:\n",
    "                    self.bfs(i,j,rooms)\n",
    "        return rooms\n",
    "        \n",
    "    def bfs(self,i,j,rooms):\n",
    "        r = len(rooms)\n",
    "        c = len(rooms[0])\n",
    "        queue = deque([(i,j)])\n",
    "        visited = set([(i,j)])\n",
    "        \n",
    "        while queue:\n",
    "            x,y = queue.popleft()\n",
    "            for delta_x,delta_y in [(0,1),(0,-1),(-1,0),(1,0)]:\n",
    "                new_x = x + delta_x\n",
    "                new_y = y + delta_y\n",
    "                if new_x < 0 or new_x >= r or new_y < 0 or new_y >= c:\n",
    "                    continue\n",
    "                if rooms[new_x][new_y] == -1 or rooms[new_x][new_y] == 0:\n",
    "                    continue\n",
    "                if rooms[new_x][new_y] < rooms[x][y] + 1:\n",
    "                    continue\n",
    "                if (new_x, new_y) in visited:\n",
    "                    continue\n",
    "                rooms[new_x][new_y] = rooms[x][y] + 1\n",
    "                queue.append((new_x,new_y))\n",
    "                visited.add((new_x,new_y))\n"
   ]
  }
 ],
 "metadata": {
  "kernelspec": {
   "display_name": "Python 3",
   "language": "python",
   "name": "python3"
  },
  "language_info": {
   "codemirror_mode": {
    "name": "ipython",
    "version": 3
   },
   "file_extension": ".py",
   "mimetype": "text/x-python",
   "name": "python",
   "nbconvert_exporter": "python",
   "pygments_lexer": "ipython3",
   "version": "3.7.3"
  }
 },
 "nbformat": 4,
 "nbformat_minor": 2
}
