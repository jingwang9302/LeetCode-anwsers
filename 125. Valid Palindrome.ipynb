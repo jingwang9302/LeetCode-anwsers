{
 "cells": [
  {
   "cell_type": "markdown",
   "metadata": {},
   "source": [
    "# 125. Valid Palindrome"
   ]
  },
  {
   "cell_type": "raw",
   "metadata": {},
   "source": [
    "Given a string, determine if it is a palindrome, considering only alphanumeric characters and ignoring cases.\n",
    "\n",
    "Note: For the purpose of this problem, we define empty string as valid palindrome.\n",
    "\n",
    "Example 1:\n",
    "\n",
    "Input: \"A man, a plan, a canal: Panama\"\n",
    "Output: true"
   ]
  },
  {
   "cell_type": "code",
   "execution_count": null,
   "metadata": {},
   "outputs": [],
   "source": [
    "    def isPalindrome(self, s: str) -> bool:\n",
    "        new_s = \"\"\n",
    "        for i in s:\n",
    "            if i.isalnum() == True:\n",
    "                new_s += i\n",
    "        new_s = new_s.lower()\n",
    "        n = len(new_s)\n",
    "        for i in range(n//2):\n",
    "            if new_s[i] != new_s[-i-1]:\n",
    "                return False\n",
    "        return True"
   ]
  }
 ],
 "metadata": {
  "kernelspec": {
   "display_name": "Python 3",
   "language": "python",
   "name": "python3"
  },
  "language_info": {
   "codemirror_mode": {
    "name": "ipython",
    "version": 3
   },
   "file_extension": ".py",
   "mimetype": "text/x-python",
   "name": "python",
   "nbconvert_exporter": "python",
   "pygments_lexer": "ipython3",
   "version": "3.7.3"
  }
 },
 "nbformat": 4,
 "nbformat_minor": 2
}
