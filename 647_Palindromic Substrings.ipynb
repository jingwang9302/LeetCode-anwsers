{
 "cells": [
  {
   "cell_type": "markdown",
   "metadata": {},
   "source": [
    "# 647. Palindromic Substrings"
   ]
  },
  {
   "cell_type": "markdown",
   "metadata": {},
   "source": [
    "Given a string, your task is to count how many palindromic substrings in this string.\n",
    "\n",
    "The substrings with different start indexes or end indexes are counted as different substrings even they consist of same characters.\n",
    "\n",
    "\n",
    "Input: \"abc\"\n",
    "Output: 3\n",
    "Explanation: Three palindromic strings: \"a\", \"b\", \"c\"."
   ]
  },
  {
   "cell_type": "code",
   "execution_count": null,
   "metadata": {},
   "outputs": [],
   "source": [
    "# Method1: Expand from center\n",
    "class Solution:\n",
    "    def countSubstrings(self, s: str) -> int:\n",
    "        self.count = 0\n",
    "        for i in range(len(s)):\n",
    "            self.find_from_center(s,i,i)\n",
    "            self.find_from_center(s,i,i+1)\n",
    "        return self.count\n",
    "        \n",
    "    def find_from_center(self,s,left,right):\n",
    "        while (left>=0 and right < len(s) and s[left] == s[right]):\n",
    "            self.count += 1\n",
    "            left -= 1\n",
    "            right += 1\n",
    "        return self.count"
   ]
  }
 ],
 "metadata": {
  "kernelspec": {
   "display_name": "Python 3",
   "language": "python",
   "name": "python3"
  },
  "language_info": {
   "codemirror_mode": {
    "name": "ipython",
    "version": 3
   },
   "file_extension": ".py",
   "mimetype": "text/x-python",
   "name": "python",
   "nbconvert_exporter": "python",
   "pygments_lexer": "ipython3",
   "version": "3.7.3"
  }
 },
 "nbformat": 4,
 "nbformat_minor": 2
}
