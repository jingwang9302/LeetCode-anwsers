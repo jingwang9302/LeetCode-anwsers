{
 "cells": [
  {
   "cell_type": "markdown",
   "metadata": {},
   "source": [
    "# 236. Lowest Common Ancestor of a Binary Tree"
   ]
  },
  {
   "cell_type": "raw",
   "metadata": {},
   "source": [
    "\n",
    "Given a binary tree, find the lowest common ancestor (LCA) of two given nodes in the tree.\n",
    "\n",
    "According to the definition of LCA on Wikipedia: “The lowest common ancestor is defined between two nodes p and q as the lowest node in T that has both p and q as descendants (where we allow a node to be a descendant of itself).”\n",
    "\n",
    "Given the following binary tree:  root = [3,5,1,6,2,0,8,null,null,7,4]\n",
    "\n",
    "\n",
    " \n",
    "\n",
    "Example 1:\n",
    "\n",
    "Input: root = [3,5,1,6,2,0,8,null,null,7,4], p = 5, q = 1\n",
    "Output: 3\n",
    "Explanation: The LCA of nodes 5 and 1 is 3.\n",
    "Example 2:\n",
    "\n",
    "Input: root = [3,5,1,6,2,0,8,null,null,7,4], p = 5, q = 4\n",
    "Output: 5\n",
    "Explanation: The LCA of nodes 5 and 4 is 5, since a node can be a descendant of itself according to the LCA definition."
   ]
  },
  {
   "cell_type": "code",
   "execution_count": null,
   "metadata": {},
   "outputs": [],
   "source": [
    "# Definition for a binary tree node.\n",
    "# class TreeNode:\n",
    "#     def __init__(self, x):\n",
    "#         self.val = x\n",
    "#         self.left = None\n",
    "#         self.right = None\n",
    "\n",
    "class Solution:\n",
    "    def lowestCommonAncestor(self, root: 'TreeNode', p: 'TreeNode', q: 'TreeNode') -> 'TreeNode':\n",
    "        if not root:\n",
    "            return None\n",
    "        if root == p or root == q:\n",
    "            return root\n",
    "        \n",
    "        #divide\n",
    "        left = self.lowestCommonAncestor(root.left,p,q)\n",
    "        right = self.lowestCommonAncestor(root.right,p,q)\n",
    "        \n",
    "        #conquer\n",
    "        if left and right:\n",
    "            return root\n",
    "        if not left:\n",
    "            return right\n",
    "        if not right:\n",
    "            return left"
   ]
  }
 ],
 "metadata": {
  "kernelspec": {
   "display_name": "Python 3",
   "language": "python",
   "name": "python3"
  },
  "language_info": {
   "codemirror_mode": {
    "name": "ipython",
    "version": 3
   },
   "file_extension": ".py",
   "mimetype": "text/x-python",
   "name": "python",
   "nbconvert_exporter": "python",
   "pygments_lexer": "ipython3",
   "version": "3.7.3"
  }
 },
 "nbformat": 4,
 "nbformat_minor": 2
}
