{
 "cells": [
  {
   "cell_type": "markdown",
   "metadata": {},
   "source": [
    "# 992. Subarrays with K Different Integers"
   ]
  },
  {
   "cell_type": "raw",
   "metadata": {},
   "source": [
    "Input: s = \"abcabc\", k = 3\n",
    "Output: [\"abc\", \"bca\", \"cab\"]"
   ]
  },
  {
   "cell_type": "code",
   "execution_count": 149,
   "metadata": {},
   "outputs": [],
   "source": [
    "# find min length substring. for k = 2: find len(set(..)) == 2\n",
    "# TLE\n",
    "def subarraysWithKDistinct(s,k):\n",
    "    if len(set(s)) < k:\n",
    "        return 0\n",
    "\n",
    "    res = 0\n",
    "    for i in range(len(s)):\n",
    "        for j in range(start(s[i:],k)+i, len(s)+1):\n",
    "            if len(set(s[i:j])) == k:\n",
    "                res += 1\n",
    "                print(s[i:j])\n",
    "            if len(set(s[i:j])) > k:\n",
    "                break\n",
    "    \n",
    "    return res\n",
    "\n",
    "def start(s,k):\n",
    "    start = 0\n",
    "    for i in range(len(s)):\n",
    "        if len(set(s[:i])) == k:\n",
    "            start = i-1\n",
    "            break\n",
    "    return start"
   ]
  },
  {
   "cell_type": "code",
   "execution_count": 150,
   "metadata": {},
   "outputs": [
    {
     "name": "stdout",
     "output_type": "stream",
     "text": [
      "ab\n",
      "aba\n",
      "abab\n",
      "ba\n",
      "bab\n",
      "ab\n",
      "bc\n"
     ]
    },
    {
     "data": {
      "text/plain": [
       "7"
      ]
     },
     "execution_count": 150,
     "metadata": {},
     "output_type": "execute_result"
    }
   ],
   "source": [
    "s= \"ababc\"\n",
    "k = 2\n",
    "subarraysWithKDistinct(s,k)\n"
   ]
  },
  {
   "cell_type": "code",
   "execution_count": 57,
   "metadata": {},
   "outputs": [
    {
     "data": {
      "text/plain": [
       "2"
      ]
     },
     "execution_count": 57,
     "metadata": {},
     "output_type": "execute_result"
    }
   ],
   "source": []
  },
  {
   "cell_type": "code",
   "execution_count": null,
   "metadata": {},
   "outputs": [],
   "source": [
    " "
   ]
  },
  {
   "cell_type": "code",
   "execution_count": null,
   "metadata": {},
   "outputs": [],
   "source": []
  },
  {
   "cell_type": "code",
   "execution_count": null,
   "metadata": {},
   "outputs": [],
   "source": []
  },
  {
   "cell_type": "code",
   "execution_count": null,
   "metadata": {},
   "outputs": [],
   "source": []
  },
  {
   "cell_type": "code",
   "execution_count": null,
   "metadata": {},
   "outputs": [],
   "source": []
  },
  {
   "cell_type": "code",
   "execution_count": null,
   "metadata": {},
   "outputs": [],
   "source": []
  },
  {
   "cell_type": "code",
   "execution_count": null,
   "metadata": {},
   "outputs": [],
   "source": []
  },
  {
   "cell_type": "code",
   "execution_count": null,
   "metadata": {},
   "outputs": [],
   "source": []
  },
  {
   "cell_type": "code",
   "execution_count": null,
   "metadata": {},
   "outputs": [],
   "source": []
  }
 ],
 "metadata": {
  "kernelspec": {
   "display_name": "Python 3",
   "language": "python",
   "name": "python3"
  },
  "language_info": {
   "codemirror_mode": {
    "name": "ipython",
    "version": 3
   },
   "file_extension": ".py",
   "mimetype": "text/x-python",
   "name": "python",
   "nbconvert_exporter": "python",
   "pygments_lexer": "ipython3",
   "version": "3.7.4"
  }
 },
 "nbformat": 4,
 "nbformat_minor": 2
}
