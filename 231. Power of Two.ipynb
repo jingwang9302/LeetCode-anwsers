{
 "cells": [
  {
   "cell_type": "markdown",
   "metadata": {},
   "source": [
    "# 231. Power of Two\n"
   ]
  },
  {
   "cell_type": "raw",
   "metadata": {},
   "source": [
    "Given an integer, write a function to determine if it is a power of two.\n",
    "\n",
    "Example 1:\n",
    "\n",
    "Input: 1\n",
    "Output: true \n",
    "Explanation: 20 = 1\n",
    "Example 2:\n",
    "\n",
    "Input: 16\n",
    "Output: true\n",
    "Explanation: 24 = 16"
   ]
  },
  {
   "cell_type": "code",
   "execution_count": null,
   "metadata": {},
   "outputs": [],
   "source": [
    "    def isPowerOfTwo(self, n: int) -> bool:\n",
    "        \n",
    "        while n>1:\n",
    "            if n % 2 == 0:\n",
    "                n //= 2\n",
    "            else:\n",
    "                return False\n",
    "        return n==1"
   ]
  }
 ],
 "metadata": {
  "kernelspec": {
   "display_name": "Python 3",
   "language": "python",
   "name": "python3"
  },
  "language_info": {
   "codemirror_mode": {
    "name": "ipython",
    "version": 3
   },
   "file_extension": ".py",
   "mimetype": "text/x-python",
   "name": "python",
   "nbconvert_exporter": "python",
   "pygments_lexer": "ipython3",
   "version": "3.7.3"
  }
 },
 "nbformat": 4,
 "nbformat_minor": 2
}
