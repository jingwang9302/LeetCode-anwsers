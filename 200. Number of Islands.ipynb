{
 "cells": [
  {
   "cell_type": "markdown",
   "metadata": {},
   "source": [
    "# 200. Number of Islands"
   ]
  },
  {
   "cell_type": "raw",
   "metadata": {},
   "source": [
    "Given a 2d grid map of '1's (land) and '0's (water), count the number of islands. An island is surrounded by water and is formed by connecting adjacent lands horizontally or vertically. You may assume all four edges of the grid are all surrounded by water.\n",
    "\n",
    "Example 1:\n",
    "\n",
    "Input:\n",
    "11110\n",
    "11010\n",
    "11000\n",
    "00000\n",
    "\n",
    "Output: 1\n",
    "Example 2:\n",
    "\n",
    "Input:\n",
    "11000\n",
    "11000\n",
    "00100\n",
    "00011\n",
    "\n",
    "Output: 3"
   ]
  },
  {
   "cell_type": "code",
   "execution_count": null,
   "metadata": {},
   "outputs": [],
   "source": [
    "from collections import deque\n",
    "class Solution:\n",
    "    def numIslands(self, grid: List[List[str]]) -> int:\n",
    "        if not grid or not grid[0]:\n",
    "            return 0\n",
    "        visit = set()\n",
    "        islands = 0\n",
    "        for i in range(len(grid)):\n",
    "            for j in range(len(grid[0])):\n",
    "                if (i,j) not in visit and grid[i][j] == '1':\n",
    "                    visit.add((i,j))\n",
    "                    self.bfs(grid,visit,i,j)\n",
    "                    islands += 1\n",
    "        return islands\n",
    "    \n",
    "    def bfs(self,grid,visit,x,y):\n",
    "        queue = deque([(x,y)])\n",
    "        while queue:\n",
    "            x,y = queue.popleft()\n",
    "            for delta_x,delta_y in [(0,1),(0,-1),(1,0),(-1,0)]:\n",
    "                next_x = x + delta_x\n",
    "                next_y = y + delta_y\n",
    "                if 0<=next_x<len(grid) and 0<=next_y<len(grid[0]) and (next_x,next_y) not in visit and grid[next_x][next_y] == '1':\n",
    "                    queue.append((next_x,next_y))\n",
    "                    visit.add((next_x,next_y))"
   ]
  },
  {
   "cell_type": "code",
   "execution_count": null,
   "metadata": {},
   "outputs": [],
   "source": [
    "class Solution:\n",
    "    def numIslands(self, grid: List[List[str]]) -> int:\n",
    "        if not grid or not grid[0]:\n",
    "            return 0\n",
    "        count = 0\n",
    "        for i in range(len(grid)):\n",
    "            for j in range(len(grid[0])):\n",
    "                if grid[i][j] == '1':\n",
    "                    self.dfs(grid,i,j)\n",
    "                    count += 1\n",
    "        return count\n",
    "    \n",
    "    def dfs(self,grid,i,j):\n",
    "        n = len(grid)\n",
    "        m = len(grid[0])\n",
    "        if i<0 or j<0 or i>=n or j>=m or grid[i][j] != '1':\n",
    "            return\n",
    "        grid[i][j] = '0'\n",
    "        self.dfs(grid,i+1,j)\n",
    "        self.dfs(grid,i-1,j)\n",
    "        self.dfs(grid,i,j+1)\n",
    "        self.dfs(grid,i,j-1)\n",
    "        "
   ]
  }
 ],
 "metadata": {
  "kernelspec": {
   "display_name": "Python 3",
   "language": "python",
   "name": "python3"
  },
  "language_info": {
   "codemirror_mode": {
    "name": "ipython",
    "version": 3
   },
   "file_extension": ".py",
   "mimetype": "text/x-python",
   "name": "python",
   "nbconvert_exporter": "python",
   "pygments_lexer": "ipython3",
   "version": "3.7.3"
  }
 },
 "nbformat": 4,
 "nbformat_minor": 2
}
