{
 "cells": [
  {
   "cell_type": "markdown",
   "metadata": {},
   "source": [
    "# 64. Minimum Path Sum"
   ]
  },
  {
   "cell_type": "raw",
   "metadata": {},
   "source": [
    "Given a m x n grid filled with non-negative numbers, find a path from top left to bottom right which minimizes the sum of all numbers along its path.\n",
    "\n",
    "Note: You can only move either down or right at any point in time.\n",
    "\n",
    "Example:\n",
    "\n",
    "Input:\n",
    "[\n",
    "  [1,3,1],\n",
    "  [1,5,1],\n",
    "  [4,2,1]\n",
    "]\n",
    "Output: 7\n",
    "Explanation: Because the path 1→3→1→1→1 minimizes the sum."
   ]
  },
  {
   "cell_type": "code",
   "execution_count": null,
   "metadata": {},
   "outputs": [],
   "source": [
    "class Solution:\n",
    "    def minPathSum(self, grid: List[List[int]]) -> int:\n",
    "        if not grid:\n",
    "            return 0\n",
    "        y = len(grid)\n",
    "        x = len(grid[0])\n",
    "        dp = [[0 for _ in range(x)] for _ in range(y)]\n",
    "    \n",
    "        for i in range(y):\n",
    "            for j in range(x):\n",
    "                dp[i][j] = grid[i][j]\n",
    "                if i>0 and j>0:\n",
    "                    dp[i][j] += min(dp[i-1][j],dp[i][j-1])\n",
    "                elif i>0:\n",
    "                    dp[i][j] += dp[i-1][j]\n",
    "                elif j>0:\n",
    "                    dp[i][j] += dp[i][j-1]\n",
    "        return dp[-1][-1]"
   ]
  }
 ],
 "metadata": {
  "kernelspec": {
   "display_name": "Python 3",
   "language": "python",
   "name": "python3"
  },
  "language_info": {
   "codemirror_mode": {
    "name": "ipython",
    "version": 3
   },
   "file_extension": ".py",
   "mimetype": "text/x-python",
   "name": "python",
   "nbconvert_exporter": "python",
   "pygments_lexer": "ipython3",
   "version": "3.7.3"
  }
 },
 "nbformat": 4,
 "nbformat_minor": 2
}
