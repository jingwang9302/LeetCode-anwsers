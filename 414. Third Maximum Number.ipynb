{
 "cells": [
  {
   "cell_type": "markdown",
   "metadata": {},
   "source": [
    "# 414. Third Maximum Number"
   ]
  },
  {
   "cell_type": "raw",
   "metadata": {},
   "source": [
    "Given a non-empty array of integers, return the third maximum number in this array. If it does not exist, return the maximum number. The time complexity must be in O(n).\n",
    "\n",
    "Example 1:\n",
    "Input: [3, 2, 1]\n",
    "\n",
    "Output: 1\n",
    "\n",
    "Explanation: The third maximum is 1."
   ]
  },
  {
   "cell_type": "code",
   "execution_count": null,
   "metadata": {},
   "outputs": [],
   "source": [
    "    def thirdMax(self, nums: List[int]):\n",
    "        v  = [float('-inf'),float('-inf'),float('-inf')]\n",
    "        for num in nums:\n",
    "            if num not in v:\n",
    "                if num > v[0]:\n",
    "                    v[0],v[1],v[2] = num,v[0],v[1]\n",
    "                elif num >v[1]:\n",
    "                    v[1],v[2] = num,v[1]\n",
    "                elif num > v[2]:\n",
    "                    v[2] = num\n",
    "        return max(nums) if float('-inf') in v else v[2]"
   ]
  }
 ],
 "metadata": {
  "kernelspec": {
   "display_name": "Python 3",
   "language": "python",
   "name": "python3"
  },
  "language_info": {
   "codemirror_mode": {
    "name": "ipython",
    "version": 3
   },
   "file_extension": ".py",
   "mimetype": "text/x-python",
   "name": "python",
   "nbconvert_exporter": "python",
   "pygments_lexer": "ipython3",
   "version": "3.7.3"
  }
 },
 "nbformat": 4,
 "nbformat_minor": 2
}
